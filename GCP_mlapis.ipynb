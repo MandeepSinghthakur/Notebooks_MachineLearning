{
 "cells": [
  {
   "cell_type": "markdown",
   "metadata": {
    "deletable": true,
    "editable": true
   },
   "source": [
    "# Google Cloud Platform - Using Machine Learning APIs  \n",
    "\n",
    "First, visit <a href=\"http://console.cloud.google.com/apis\">API console</a>, choose \"Credentials\" on the left-hand menu.  Choose \"Create Credentials\" and generate an API key for your application. You should probably restrict it by IP address to prevent abuse, but for now, just  leave that field blank and delete the API key after trying out this demo.\n",
    "\n",
    "I am hiding my key in a file which will not be seen in gitup.  What you need to do is replace my code below with:\n",
    "```\n",
    "APIKEY=\"xxxxxxxxxxxxxxxxxxxxxxxxxxx\"  # Replace with your API key\n",
    "```\n",
    "<b> Note: Make sure you generate an API Key and replace the value above. The sample key will not work.</b>"
   ]
  },
  {
   "cell_type": "code",
   "execution_count": 68,
   "metadata": {
    "collapsed": false
   },
   "outputs": [],
   "source": [
    "with open('MyStuff/key.txt') as r:\n",
    "  APIKEY=r.read()"
   ]
  },
  {
   "cell_type": "markdown",
   "metadata": {
    "deletable": true,
    "editable": true
   },
   "source": [
    "From the same API console, choose \"Dashboard\" on the left-hand menu and \"Enable API\".\n",
    "\n",
    "Enable the following APIs for your project (search for them) if they are not already enabled:\n",
    "<ol>\n",
    "<li> Google Translate API </li>\n",
    "<li> Google Cloud Vision API </li>\n",
    "<li> Google Natural Language API </li>\n",
    "<li> Google Cloud Speech API </li>\n",
    "</ol>\n",
    "\n",
    "Finally, because we are calling the APIs from Python (clients in many other languages are available), let's install the Python package (it's not installed by default on Datalab)"
   ]
  },
  {
   "cell_type": "code",
   "execution_count": 69,
   "metadata": {
    "collapsed": false
   },
   "outputs": [
    {
     "name": "stdout",
     "output_type": "stream",
     "text": [
      "Requirement already up-to-date: pip in /usr/local/envs/py3env/lib/python3.5/site-packages (10.0.1)\n",
      "\u001b[31mproto-google-cloud-error-reporting-v1beta1 0.15.3 has requirement oauth2client<4.0dev,>=2.0.0, but you'll have oauth2client 4.1.2 which is incompatible.\u001b[0m\n",
      "\u001b[31mgoogle-cloud-bigquery 0.28.0 has requirement requests>=2.18.0, but you'll have requests 2.9.1 which is incompatible.\u001b[0m\n",
      "\u001b[31mgoogle-cloud-spanner 0.29.0 has requirement requests<3.0dev,>=2.18.4, but you'll have requests 2.9.1 which is incompatible.\u001b[0m\n",
      "\u001b[31mgapic-google-cloud-datastore-v1 0.15.3 has requirement oauth2client<4.0dev,>=2.0.0, but you'll have oauth2client 4.1.2 which is incompatible.\u001b[0m\n",
      "\u001b[31mproto-google-cloud-datastore-v1 0.90.4 has requirement oauth2client<4.0dev,>=2.0.0, but you'll have oauth2client 4.1.2 which is incompatible.\u001b[0m\n",
      "\u001b[31mdatalab 1.1.2 has requirement google-api-python-client==1.6.2, but you'll have google-api-python-client 1.6.6 which is incompatible.\u001b[0m\n",
      "\u001b[31mdatalab 1.1.2 has requirement httplib2==0.10.3, but you'll have httplib2 0.11.3 which is incompatible.\u001b[0m\n",
      "\u001b[31mdatalab 1.1.2 has requirement oauth2client==2.2.0, but you'll have oauth2client 4.1.2 which is incompatible.\u001b[0m\n",
      "\u001b[31mdatalab 1.1.2 has requirement six==1.10.0, but you'll have six 1.11.0 which is incompatible.\u001b[0m\n",
      "\u001b[31mproto-google-cloud-logging-v2 0.91.3 has requirement oauth2client<4.0dev,>=2.0.0, but you'll have oauth2client 4.1.2 which is incompatible.\u001b[0m\n",
      "\u001b[31mtensorflow-tensorboard 1.5.1 has requirement bleach==1.5.0, but you'll have bleach 2.1.2 which is incompatible.\u001b[0m\n",
      "\u001b[31mtensorflow-tensorboard 1.5.1 has requirement html5lib==0.9999999, but you'll have html5lib 1.0.1 which is incompatible.\u001b[0m\n",
      "\u001b[31mgoogle-gax 0.15.16 has requirement requests<3.0dev,>=2.13.0, but you'll have requests 2.9.1 which is incompatible.\u001b[0m\n",
      "\u001b[31mgapic-google-cloud-logging-v2 0.91.3 has requirement oauth2client<4.0dev,>=2.0.0, but you'll have oauth2client 4.1.2 which is incompatible.\u001b[0m\n",
      "\u001b[31mgoogle-cloud-storage 1.6.0 has requirement requests>=2.18.0, but you'll have requests 2.9.1 which is incompatible.\u001b[0m\n",
      "\u001b[31mgapic-google-cloud-error-reporting-v1beta1 0.15.3 has requirement oauth2client<4.0dev,>=2.0.0, but you'll have oauth2client 4.1.2 which is incompatible.\u001b[0m\n",
      "\u001b[31mgoogle-cloud-pubsub 0.29.4 has requirement psutil<6.0dev,>=5.2.2, but you'll have psutil 4.3.0 which is incompatible.\u001b[0m\n",
      "\u001b[31mgoogle-api-core 0.1.4 has requirement requests<3.0.0dev,>=2.18.0, but you'll have requests 2.9.1 which is incompatible.\u001b[0m\n"
     ]
    }
   ],
   "source": [
    "!pip install --upgrade pip"
   ]
  },
  {
   "cell_type": "code",
   "execution_count": 70,
   "metadata": {
    "collapsed": false,
    "deletable": true,
    "editable": true
   },
   "outputs": [
    {
     "name": "stdout",
     "output_type": "stream",
     "text": [
      "Requirement already up-to-date: google-api-python-client in /usr/local/envs/py3env/lib/python3.5/site-packages (1.6.6)\n",
      "Requirement not upgraded as not directly required: oauth2client<5.0.0dev,>=1.5.0 in /usr/local/envs/py3env/lib/python3.5/site-packages (from google-api-python-client) (4.1.2)\n",
      "Requirement not upgraded as not directly required: six<2dev,>=1.6.1 in /usr/local/envs/py3env/lib/python3.5/site-packages (from google-api-python-client) (1.11.0)\n",
      "Requirement not upgraded as not directly required: httplib2<1dev,>=0.9.2 in /usr/local/envs/py3env/lib/python3.5/site-packages (from google-api-python-client) (0.11.3)\n",
      "Requirement not upgraded as not directly required: uritemplate<4dev,>=3.0.0 in /usr/local/envs/py3env/lib/python3.5/site-packages/uritemplate-3.0.0-py3.5.egg (from google-api-python-client) (3.0.0)\n",
      "Requirement not upgraded as not directly required: pyasn1-modules>=0.0.5 in /usr/local/envs/py3env/lib/python3.5/site-packages (from oauth2client<5.0.0dev,>=1.5.0->google-api-python-client) (0.2.1)\n",
      "Requirement not upgraded as not directly required: pyasn1>=0.1.7 in /usr/local/envs/py3env/lib/python3.5/site-packages (from oauth2client<5.0.0dev,>=1.5.0->google-api-python-client) (0.4.2)\n",
      "Requirement not upgraded as not directly required: rsa>=3.1.4 in /usr/local/envs/py3env/lib/python3.5/site-packages (from oauth2client<5.0.0dev,>=1.5.0->google-api-python-client) (3.4.2)\n",
      "\u001b[31mgapic-google-cloud-error-reporting-v1beta1 0.15.3 has requirement oauth2client<4.0dev,>=2.0.0, but you'll have oauth2client 4.1.2 which is incompatible.\u001b[0m\n",
      "\u001b[31mgoogle-gax 0.15.16 has requirement requests<3.0dev,>=2.13.0, but you'll have requests 2.9.1 which is incompatible.\u001b[0m\n",
      "\u001b[31mgoogle-cloud-storage 1.6.0 has requirement requests>=2.18.0, but you'll have requests 2.9.1 which is incompatible.\u001b[0m\n",
      "\u001b[31mgoogle-api-core 0.1.4 has requirement requests<3.0.0dev,>=2.18.0, but you'll have requests 2.9.1 which is incompatible.\u001b[0m\n",
      "\u001b[31mproto-google-cloud-error-reporting-v1beta1 0.15.3 has requirement oauth2client<4.0dev,>=2.0.0, but you'll have oauth2client 4.1.2 which is incompatible.\u001b[0m\n",
      "\u001b[31mgapic-google-cloud-logging-v2 0.91.3 has requirement oauth2client<4.0dev,>=2.0.0, but you'll have oauth2client 4.1.2 which is incompatible.\u001b[0m\n",
      "\u001b[31mgoogle-cloud-spanner 0.29.0 has requirement requests<3.0dev,>=2.18.4, but you'll have requests 2.9.1 which is incompatible.\u001b[0m\n",
      "\u001b[31mgapic-google-cloud-datastore-v1 0.15.3 has requirement oauth2client<4.0dev,>=2.0.0, but you'll have oauth2client 4.1.2 which is incompatible.\u001b[0m\n",
      "\u001b[31mproto-google-cloud-datastore-v1 0.90.4 has requirement oauth2client<4.0dev,>=2.0.0, but you'll have oauth2client 4.1.2 which is incompatible.\u001b[0m\n",
      "\u001b[31mgoogle-cloud-bigquery 0.28.0 has requirement requests>=2.18.0, but you'll have requests 2.9.1 which is incompatible.\u001b[0m\n",
      "\u001b[31mproto-google-cloud-logging-v2 0.91.3 has requirement oauth2client<4.0dev,>=2.0.0, but you'll have oauth2client 4.1.2 which is incompatible.\u001b[0m\n",
      "\u001b[31mdatalab 1.1.2 has requirement google-api-python-client==1.6.2, but you'll have google-api-python-client 1.6.6 which is incompatible.\u001b[0m\n",
      "\u001b[31mdatalab 1.1.2 has requirement httplib2==0.10.3, but you'll have httplib2 0.11.3 which is incompatible.\u001b[0m\n",
      "\u001b[31mdatalab 1.1.2 has requirement oauth2client==2.2.0, but you'll have oauth2client 4.1.2 which is incompatible.\u001b[0m\n",
      "\u001b[31mdatalab 1.1.2 has requirement six==1.10.0, but you'll have six 1.11.0 which is incompatible.\u001b[0m\n",
      "\u001b[31mtensorflow-tensorboard 1.5.1 has requirement bleach==1.5.0, but you'll have bleach 2.1.2 which is incompatible.\u001b[0m\n",
      "\u001b[31mtensorflow-tensorboard 1.5.1 has requirement html5lib==0.9999999, but you'll have html5lib 1.0.1 which is incompatible.\u001b[0m\n",
      "\u001b[31mgoogle-cloud-pubsub 0.29.4 has requirement psutil<6.0dev,>=5.2.2, but you'll have psutil 4.3.0 which is incompatible.\u001b[0m\n"
     ]
    }
   ],
   "source": [
    "!pip install --upgrade google-api-python-client"
   ]
  },
  {
   "cell_type": "markdown",
   "metadata": {
    "deletable": true,
    "editable": true
   },
   "source": [
    "## Invoke Translate API\n",
    "\n",
    "[Google Cloud Translation](https://cloud.google.com/translate/docs/) documentation.  I know a lot has gone on here - see [my LSTM notebook](https://nbviewer.jupyter.org/github/jeffreyrnorton/Notebooks_MachineLearning/blob/master/DeepNetsWithKeras_ANN_LSTM.ipynb) where I trained a Seq2Seq LSTM network to do translation on a relatively small vocabulary.\n",
    "\n",
    "Also note that this is a service.  The translation is not happening on the VM running the notebook, but is running as a service.  This is where we start seeing the true power of cloud compute!"
   ]
  },
  {
   "cell_type": "code",
   "execution_count": 71,
   "metadata": {
    "collapsed": false,
    "deletable": true,
    "editable": true
   },
   "outputs": [
    {
     "name": "stdout",
     "output_type": "stream",
     "text": [
      "is it really this easy? -> est-ce vraiment si simple?\n",
      "amazing technology -> technologie étonnante\n",
      "wow -> sensationnel\n"
     ]
    }
   ],
   "source": [
    "# running Translate API\n",
    "from googleapiclient.discovery import build\n",
    "service = build('translate', 'v2', developerKey=APIKEY)\n",
    "\n",
    "# use the service\n",
    "inputs = ['is it really this easy?', 'amazing technology', 'wow']\n",
    "outputs = service.translations().list(source='en', target='fr', q=inputs).execute()\n",
    "# print outputs\n",
    "for input, output in zip(inputs, outputs['translations']):\n",
    "  print(u\"{0} -> {1}\".format(input, output['translatedText']))"
   ]
  },
  {
   "cell_type": "markdown",
   "metadata": {},
   "source": [
    "That is really cool - how would a Gallego (a person from Galicia in the Northwest corner of Spain) say it?"
   ]
  },
  {
   "cell_type": "code",
   "execution_count": 72,
   "metadata": {
    "collapsed": false
   },
   "outputs": [
    {
     "name": "stdout",
     "output_type": "stream",
     "text": [
      "is it really this easy? -> é realmente tan fácil?\n",
      "amazing technology -> tecnoloxía sorprendente\n",
      "wow -> wow\n"
     ]
    }
   ],
   "source": [
    "outputs = service.translations().list(source='en', target='gl', q=inputs).execute()\n",
    "# print outputs\n",
    "for input, output in zip(inputs, outputs['translations']):\n",
    "  print(u\"{0} -> {1}\".format(input, output['translatedText']))"
   ]
  },
  {
   "cell_type": "markdown",
   "metadata": {
    "deletable": true,
    "editable": true
   },
   "source": [
    "## Invoke Vision API\n",
    "\n",
    "The [Vision API](https://cloud.google.com/vision/docs/) can work off an image in Cloud Storage or embedded directly into a POST message. I'll use Cloud Storage and do OCR on this image: <img src=\"https://storage.googleapis.com/cloud-training-demos/vision/sign2.jpg\" width=\"200\" />.  That photograph is from http://www.publicdomainpictures.net/view-image.php?image=15842."
   ]
  },
  {
   "cell_type": "code",
   "execution_count": 73,
   "metadata": {
    "collapsed": false,
    "deletable": true,
    "editable": true
   },
   "outputs": [
    {
     "name": "stdout",
     "output_type": "stream",
     "text": [
      "{'responses': [{'textAnnotations': [{'boundingPoly': {'vertices': [{'y': 104, 'x': 152}, {'y': 104, 'x': 1082}, {'y': 658, 'x': 1082}, {'y': 658, 'x': 152}]}, 'locale': 'zh', 'description': '请您爱护和保\\n护卫生创建优\\n美水环境\\n'}, {'boundingPoly': {'vertices': [{'y': 104, 'x': 179}, {'y': 104, 'x': 321}, {'y': 243, 'x': 321}, {'y': 243, 'x': 179}]}, 'description': '请'}, {'boundingPoly': {'vertices': [{'y': 108, 'x': 329}, {'y': 108, 'x': 471}, {'y': 243, 'x': 471}, {'y': 243, 'x': 329}]}, 'description': '您'}, {'boundingPoly': {'vertices': [{'y': 108, 'x': 479}, {'y': 108, 'x': 775}, {'y': 243, 'x': 775}, {'y': 243, 'x': 479}]}, 'description': '爱护'}, {'boundingPoly': {'vertices': [{'y': 111, 'x': 786}, {'y': 111, 'x': 925}, {'y': 243, 'x': 925}, {'y': 243, 'x': 786}]}, 'description': '和'}, {'boundingPoly': {'vertices': [{'y': 104, 'x': 933}, {'y': 104, 'x': 1079}, {'y': 239, 'x': 1079}, {'y': 239, 'x': 933}]}, 'description': '保'}, {'boundingPoly': {'vertices': [{'y': 300, 'x': 165}, {'y': 300, 'x': 312}, {'y': 440, 'x': 312}, {'y': 440, 'x': 165}]}, 'description': '护'}, {'boundingPoly': {'vertices': [{'y': 304, 'x': 316}, {'y': 304, 'x': 619}, {'y': 440, 'x': 619}, {'y': 440, 'x': 316}]}, 'description': '卫生'}, {'boundingPoly': {'vertices': [{'y': 304, 'x': 631}, {'y': 304, 'x': 930}, {'y': 444, 'x': 930}, {'y': 444, 'x': 631}]}, 'description': '创建'}, {'boundingPoly': {'vertices': [{'y': 300, 'x': 938}, {'y': 300, 'x': 1082}, {'y': 440, 'x': 1082}, {'y': 440, 'x': 938}]}, 'description': '优'}, {'boundingPoly': {'vertices': [{'y': 503, 'x': 158}, {'y': 509, 'x': 304}, {'y': 655, 'x': 297}, {'y': 649, 'x': 152}]}, 'description': '美'}, {'boundingPoly': {'vertices': [{'y': 501, 'x': 313}, {'y': 508, 'x': 464}, {'y': 653, 'x': 457}, {'y': 647, 'x': 307}]}, 'description': '水'}, {'boundingPoly': {'vertices': [{'y': 499, 'x': 466}, {'y': 512, 'x': 772}, {'y': 658, 'x': 765}, {'y': 645, 'x': 460}]}, 'description': '环境'}], 'fullTextAnnotation': {'pages': [{'blocks': [{'property': {'detectedLanguages': [{'languageCode': 'zh-Hans'}]}, 'boundingBox': {'vertices': [{'y': 104, 'x': 152}, {'y': 104, 'x': 1082}, {'y': 658, 'x': 1082}, {'y': 658, 'x': 152}]}, 'paragraphs': [{'property': {'detectedLanguages': [{'languageCode': 'zh-Hans'}]}, 'words': [{'property': {'detectedLanguages': [{'languageCode': 'zh-Hans'}]}, 'boundingBox': {'vertices': [{'y': 104, 'x': 179}, {'y': 104, 'x': 321}, {'y': 243, 'x': 321}, {'y': 243, 'x': 179}]}, 'symbols': [{'property': {'detectedLanguages': [{'languageCode': 'zh-Hans'}]}, 'text': '请', 'boundingBox': {'vertices': [{'y': 104, 'x': 179}, {'y': 104, 'x': 321}, {'y': 243, 'x': 321}, {'y': 243, 'x': 179}]}}]}, {'property': {'detectedLanguages': [{'languageCode': 'zh-Hans'}]}, 'boundingBox': {'vertices': [{'y': 108, 'x': 329}, {'y': 108, 'x': 471}, {'y': 243, 'x': 471}, {'y': 243, 'x': 329}]}, 'symbols': [{'property': {'detectedLanguages': [{'languageCode': 'zh-Hans'}]}, 'text': '您', 'boundingBox': {'vertices': [{'y': 108, 'x': 329}, {'y': 108, 'x': 471}, {'y': 243, 'x': 471}, {'y': 243, 'x': 329}]}}]}, {'property': {'detectedLanguages': [{'languageCode': 'zh-Hans'}]}, 'boundingBox': {'vertices': [{'y': 108, 'x': 479}, {'y': 108, 'x': 775}, {'y': 243, 'x': 775}, {'y': 243, 'x': 479}]}, 'symbols': [{'property': {'detectedLanguages': [{'languageCode': 'zh-Hans'}]}, 'text': '爱', 'boundingBox': {'vertices': [{'y': 108, 'x': 479}, {'y': 108, 'x': 621}, {'y': 243, 'x': 621}, {'y': 243, 'x': 479}]}}, {'property': {'detectedLanguages': [{'languageCode': 'zh-Hans'}]}, 'text': '护', 'boundingBox': {'vertices': [{'y': 108, 'x': 633}, {'y': 108, 'x': 775}, {'y': 243, 'x': 775}, {'y': 243, 'x': 633}]}}]}, {'property': {'detectedLanguages': [{'languageCode': 'zh-Hans'}]}, 'boundingBox': {'vertices': [{'y': 111, 'x': 786}, {'y': 111, 'x': 925}, {'y': 243, 'x': 925}, {'y': 243, 'x': 786}]}, 'symbols': [{'property': {'detectedLanguages': [{'languageCode': 'zh-Hans'}]}, 'text': '和', 'boundingBox': {'vertices': [{'y': 111, 'x': 786}, {'y': 111, 'x': 925}, {'y': 243, 'x': 925}, {'y': 243, 'x': 786}]}}]}, {'property': {'detectedLanguages': [{'languageCode': 'ja'}]}, 'boundingBox': {'vertices': [{'y': 104, 'x': 933}, {'y': 104, 'x': 1079}, {'y': 239, 'x': 1079}, {'y': 239, 'x': 933}]}, 'symbols': [{'property': {'detectedBreak': {'type': 'EOL_SURE_SPACE'}, 'detectedLanguages': [{'languageCode': 'zh-Hans'}]}, 'text': '保', 'boundingBox': {'vertices': [{'y': 104, 'x': 933}, {'y': 104, 'x': 1079}, {'y': 239, 'x': 1079}, {'y': 239, 'x': 933}]}}]}, {'property': {'detectedLanguages': [{'languageCode': 'zh-Hans'}]}, 'boundingBox': {'vertices': [{'y': 300, 'x': 165}, {'y': 300, 'x': 312}, {'y': 440, 'x': 312}, {'y': 440, 'x': 165}]}, 'symbols': [{'property': {'detectedLanguages': [{'languageCode': 'zh-Hans'}]}, 'text': '护', 'boundingBox': {'vertices': [{'y': 300, 'x': 165}, {'y': 300, 'x': 312}, {'y': 440, 'x': 312}, {'y': 440, 'x': 165}]}}]}, {'property': {'detectedLanguages': [{'languageCode': 'zh-Hans'}]}, 'boundingBox': {'vertices': [{'y': 304, 'x': 316}, {'y': 304, 'x': 619}, {'y': 440, 'x': 619}, {'y': 440, 'x': 316}]}, 'symbols': [{'property': {'detectedLanguages': [{'languageCode': 'zh-Hans'}]}, 'text': '卫', 'boundingBox': {'vertices': [{'y': 311, 'x': 316}, {'y': 311, 'x': 460}, {'y': 436, 'x': 460}, {'y': 436, 'x': 316}]}}, {'property': {'detectedLanguages': [{'languageCode': 'zh-Hans'}]}, 'text': '生', 'boundingBox': {'vertices': [{'y': 304, 'x': 472}, {'y': 304, 'x': 619}, {'y': 440, 'x': 619}, {'y': 440, 'x': 472}]}}]}, {'property': {'detectedLanguages': [{'languageCode': 'zh-Hans'}]}, 'boundingBox': {'vertices': [{'y': 304, 'x': 631}, {'y': 304, 'x': 930}, {'y': 444, 'x': 930}, {'y': 444, 'x': 631}]}, 'symbols': [{'property': {'detectedLanguages': [{'languageCode': 'zh-Hans'}]}, 'text': '创', 'boundingBox': {'vertices': [{'y': 304, 'x': 631}, {'y': 304, 'x': 771}, {'y': 444, 'x': 771}, {'y': 444, 'x': 631}]}}, {'property': {'detectedLanguages': [{'languageCode': 'zh-Hans'}]}, 'text': '建', 'boundingBox': {'vertices': [{'y': 308, 'x': 786}, {'y': 308, 'x': 930}, {'y': 444, 'x': 930}, {'y': 444, 'x': 786}]}}]}, {'property': {'detectedLanguages': [{'languageCode': 'zh-Hans'}]}, 'boundingBox': {'vertices': [{'y': 300, 'x': 938}, {'y': 300, 'x': 1082}, {'y': 440, 'x': 1082}, {'y': 440, 'x': 938}]}, 'symbols': [{'property': {'detectedBreak': {'type': 'EOL_SURE_SPACE'}, 'detectedLanguages': [{'languageCode': 'zh-Hans'}]}, 'text': '优', 'boundingBox': {'vertices': [{'y': 300, 'x': 938}, {'y': 300, 'x': 1082}, {'y': 440, 'x': 1082}, {'y': 440, 'x': 938}]}}]}, {'property': {'detectedLanguages': [{'languageCode': 'zh-Hans'}]}, 'boundingBox': {'vertices': [{'y': 503, 'x': 158}, {'y': 509, 'x': 304}, {'y': 655, 'x': 297}, {'y': 649, 'x': 152}]}, 'symbols': [{'property': {'detectedLanguages': [{'languageCode': 'zh-Hans'}]}, 'text': '美', 'boundingBox': {'vertices': [{'y': 503, 'x': 158}, {'y': 509, 'x': 304}, {'y': 655, 'x': 297}, {'y': 649, 'x': 152}]}}]}, {'property': {'detectedLanguages': [{'languageCode': 'ja'}]}, 'boundingBox': {'vertices': [{'y': 501, 'x': 313}, {'y': 508, 'x': 464}, {'y': 653, 'x': 457}, {'y': 647, 'x': 307}]}, 'symbols': [{'property': {'detectedLanguages': [{'languageCode': 'zh-Hans'}]}, 'text': '水', 'boundingBox': {'vertices': [{'y': 501, 'x': 313}, {'y': 508, 'x': 464}, {'y': 653, 'x': 457}, {'y': 647, 'x': 307}]}}]}, {'property': {'detectedLanguages': [{'languageCode': 'zh-Hans'}]}, 'boundingBox': {'vertices': [{'y': 499, 'x': 466}, {'y': 512, 'x': 772}, {'y': 658, 'x': 765}, {'y': 645, 'x': 460}]}, 'symbols': [{'property': {'detectedLanguages': [{'languageCode': 'zh-Hans'}]}, 'text': '环', 'boundingBox': {'vertices': [{'y': 503, 'x': 465}, {'y': 510, 'x': 623}, {'y': 652, 'x': 617}, {'y': 645, 'x': 459}]}}, {'property': {'detectedBreak': {'type': 'EOL_SURE_SPACE'}, 'detectedLanguages': [{'languageCode': 'zh-Hans'}]}, 'text': '境', 'boundingBox': {'vertices': [{'y': 506, 'x': 620}, {'y': 513, 'x': 771}, {'y': 658, 'x': 764}, {'y': 652, 'x': 614}]}}]}], 'boundingBox': {'vertices': [{'y': 104, 'x': 152}, {'y': 104, 'x': 1082}, {'y': 658, 'x': 1082}, {'y': 658, 'x': 152}]}}], 'blockType': 'TEXT'}], 'property': {'detectedLanguages': [{'languageCode': 'zh-Hans'}]}, 'height': 818, 'width': 1280}], 'text': '请您爱护和保\\n护卫生创建优\\n美水环境\\n'}}]}\n"
     ]
    }
   ],
   "source": [
    "# Running Vision API\n",
    "import base64\n",
    "IMAGE=\"gs://cloud-training-demos/vision/sign2.jpg\"\n",
    "vservice = build('vision', 'v1', developerKey=APIKEY)\n",
    "request = vservice.images().annotate(body={\n",
    "        'requests': [{\n",
    "                'image': {\n",
    "                    'source': {\n",
    "                        'gcs_image_uri': IMAGE\n",
    "                    }\n",
    "                },\n",
    "                'features': [{\n",
    "                    'type': 'TEXT_DETECTION',\n",
    "                    'maxResults': 3,\n",
    "                }]\n",
    "            }],\n",
    "        })\n",
    "responses = request.execute(num_retries=3)\n",
    "print(responses)"
   ]
  },
  {
   "cell_type": "code",
   "execution_count": 74,
   "metadata": {
    "collapsed": false,
    "deletable": true,
    "editable": true
   },
   "outputs": [
    {
     "name": "stdout",
     "output_type": "stream",
     "text": [
      "zh 请您爱护和保\n",
      "护卫生创建优\n",
      "美水环境\n",
      "\n"
     ]
    }
   ],
   "source": [
    "foreigntext = responses['responses'][0]['textAnnotations'][0]['description']\n",
    "foreignlang = responses['responses'][0]['textAnnotations'][0]['locale']\n",
    "print(foreignlang, foreigntext)"
   ]
  },
  {
   "cell_type": "markdown",
   "metadata": {
    "deletable": true,
    "editable": true
   },
   "source": [
    "## Translate sign"
   ]
  },
  {
   "cell_type": "code",
   "execution_count": 75,
   "metadata": {
    "collapsed": false,
    "deletable": true,
    "editable": true
   },
   "outputs": [
    {
     "name": "stdout",
     "output_type": "stream",
     "text": [
      "请您爱护和保\n",
      "护卫生创建优\n",
      "美水环境\n",
      " -> Please love and protect hygiene to create a beautiful water environment\n"
     ]
    }
   ],
   "source": [
    "inputs=[foreigntext]\n",
    "outputs = service.translations().list(source=foreignlang, target='en', q=inputs).execute()\n",
    "# print outputs\n",
    "for input, output in zip(inputs, outputs['translations']):\n",
    "  print(u\"{0} -> {1}\".format(input, output['translatedText']))"
   ]
  },
  {
   "cell_type": "markdown",
   "metadata": {},
   "source": [
    "## More OCR with the Vision API\n",
    "OCR intrigues me - it is actually quite difficult to do well and there are engines like Tesseract that aren't too bad.  So I want to try the engine with a POST and see if it can extract some English for me, but on a very difficult sign (text with skew):\n",
    "\n",
    "<img src=\"https://get.pxhere.com/photo/road-highway-advertising-travel-sign-community-usa-landmark-street-sign-attraction-historic-tourism-signage-road-sign-illinois-history-66-traffic-sign-route-66-mother-road-odell-644464.jpg\" width=600>"
   ]
  },
  {
   "cell_type": "code",
   "execution_count": 76,
   "metadata": {
    "collapsed": false
   },
   "outputs": [
    {
     "name": "stdout",
     "output_type": "stream",
     "text": [
      "{'responses': [{'textAnnotations': [{'boundingPoly': {'vertices': [{'y': 646, 'x': 1039}, {'y': 646, 'x': 4861}, {'y': 3183, 'x': 4861}, {'y': 3183, 'x': 1039}]}, 'locale': 'en', 'description': 'ROUTE\\nROADSIDE\\nOO ATTRACTION\\n1932 STANDARD OIL GAS STATION, ODELL, ILLINOIS\\nThis restoration is a project of the Route 66 Association of\\non the National Register of Historic Places.\\n'}, {'boundingPoly': {'vertices': [{'y': 687, 'x': 1180}, {'y': 647, 'x': 2103}, {'y': 874, 'x': 2113}, {'y': 915, 'x': 1190}]}, 'description': 'ROUTE'}, {'boundingPoly': {'vertices': [{'y': 898, 'x': 2540}, {'y': 795, 'x': 4304}, {'y': 1175, 'x': 4326}, {'y': 1277, 'x': 2562}]}, 'description': 'ROADSIDE'}, {'boundingPoly': {'vertices': [{'y': 1363, 'x': 1039}, {'y': 1338, 'x': 2354}, {'y': 1962, 'x': 2366}, {'y': 1987, 'x': 1051}]}, 'description': 'OO'}, {'boundingPoly': {'vertices': [{'y': 1433, 'x': 2555}, {'y': 1390, 'x': 4783}, {'y': 1794, 'x': 4790}, {'y': 1837, 'x': 2563}]}, 'description': 'ATTRACTION'}, {'boundingPoly': {'vertices': [{'y': 2446, 'x': 1139}, {'y': 2447, 'x': 1434}, {'y': 2578, 'x': 1433}, {'y': 2577, 'x': 1138}]}, 'description': '1932'}, {'boundingPoly': {'vertices': [{'y': 2446, 'x': 1477}, {'y': 2450, 'x': 2210}, {'y': 2584, 'x': 2209}, {'y': 2580, 'x': 1476}]}, 'description': 'STANDARD'}, {'boundingPoly': {'vertices': [{'y': 2449, 'x': 2258}, {'y': 2450, 'x': 2477}, {'y': 2590, 'x': 2476}, {'y': 2589, 'x': 2257}]}, 'description': 'OIL'}, {'boundingPoly': {'vertices': [{'y': 2449, 'x': 2520}, {'y': 2450, 'x': 2812}, {'y': 2590, 'x': 2811}, {'y': 2589, 'x': 2519}]}, 'description': 'GAS'}, {'boundingPoly': {'vertices': [{'y': 2452, 'x': 2849}, {'y': 2455, 'x': 3520}, {'y': 2618, 'x': 3519}, {'y': 2615, 'x': 2848}]}, 'description': 'STATION,'}, {'boundingPoly': {'vertices': [{'y': 2455, 'x': 3577}, {'y': 2458, 'x': 4101}, {'y': 2621, 'x': 4100}, {'y': 2618, 'x': 3576}]}, 'description': 'ODELL,'}, {'boundingPoly': {'vertices': [{'y': 2458, 'x': 4165}, {'y': 2462, 'x': 4860}, {'y': 2618, 'x': 4859}, {'y': 2615, 'x': 4164}]}, 'description': 'ILLINOIS'}, {'boundingPoly': {'vertices': [{'y': 2640, 'x': 1224}, {'y': 2644, 'x': 1449}, {'y': 2763, 'x': 1447}, {'y': 2759, 'x': 1222}]}, 'description': 'This'}, {'boundingPoly': {'vertices': [{'y': 2646, 'x': 1486}, {'y': 2657, 'x': 2087}, {'y': 2776, 'x': 2085}, {'y': 2765, 'x': 1484}]}, 'description': 'restoration'}, {'boundingPoly': {'vertices': [{'y': 2655, 'x': 2120}, {'y': 2657, 'x': 2215}, {'y': 2776, 'x': 2213}, {'y': 2774, 'x': 2118}]}, 'description': 'is'}, {'boundingPoly': {'vertices': [{'y': 2690, 'x': 2256}, {'y': 2691, 'x': 2319}, {'y': 2778, 'x': 2317}, {'y': 2777, 'x': 2254}]}, 'description': 'a'}, {'boundingPoly': {'vertices': [{'y': 2661, 'x': 2361}, {'y': 2668, 'x': 2771}, {'y': 2819, 'x': 2768}, {'y': 2812, 'x': 2358}]}, 'description': 'project'}, {'boundingPoly': {'vertices': [{'y': 2664, 'x': 2808}, {'y': 2666, 'x': 2924}, {'y': 2788, 'x': 2922}, {'y': 2786, 'x': 2806}]}, 'description': 'of'}, {'boundingPoly': {'vertices': [{'y': 2667, 'x': 2955}, {'y': 2670, 'x': 3150}, {'y': 2792, 'x': 3148}, {'y': 2789, 'x': 2953}]}, 'description': 'the'}, {'boundingPoly': {'vertices': [{'y': 2673, 'x': 3196}, {'y': 2679, 'x': 3556}, {'y': 2807, 'x': 3554}, {'y': 2801, 'x': 3194}]}, 'description': 'Route'}, {'boundingPoly': {'vertices': [{'y': 2681, 'x': 3598}, {'y': 2684, 'x': 3752}, {'y': 2809, 'x': 3750}, {'y': 2806, 'x': 3596}]}, 'description': '66'}, {'boundingPoly': {'vertices': [{'y': 2681, 'x': 3795}, {'y': 2695, 'x': 4590}, {'y': 2826, 'x': 4588}, {'y': 2812, 'x': 3793}]}, 'description': 'Association'}, {'boundingPoly': {'vertices': [{'y': 2696, 'x': 4635}, {'y': 2698, 'x': 4775}, {'y': 2829, 'x': 4773}, {'y': 2827, 'x': 4633}]}, 'description': 'of'}, {'boundingPoly': {'vertices': [{'y': 3010, 'x': 1647}, {'y': 3015, 'x': 1781}, {'y': 3099, 'x': 1778}, {'y': 3094, 'x': 1644}]}, 'description': 'on'}, {'boundingPoly': {'vertices': [{'y': 2984, 'x': 1809}, {'y': 2991, 'x': 1990}, {'y': 3107, 'x': 1986}, {'y': 3100, 'x': 1805}]}, 'description': 'the'}, {'boundingPoly': {'vertices': [{'y': 2990, 'x': 2023}, {'y': 3008, 'x': 2503}, {'y': 3127, 'x': 2498}, {'y': 3109, 'x': 2019}]}, 'description': 'National'}, {'boundingPoly': {'vertices': [{'y': 3002, 'x': 2540}, {'y': 3020, 'x': 3035}, {'y': 3171, 'x': 3029}, {'y': 3153, 'x': 2534}]}, 'description': 'Register'}, {'boundingPoly': {'vertices': [{'y': 3013, 'x': 3072}, {'y': 3017, 'x': 3191}, {'y': 3145, 'x': 3186}, {'y': 3141, 'x': 3067}]}, 'description': 'of'}, {'boundingPoly': {'vertices': [{'y': 3019, 'x': 3228}, {'y': 3037, 'x': 3723}, {'y': 3165, 'x': 3718}, {'y': 3147, 'x': 3223}]}, 'description': 'Historic'}, {'boundingPoly': {'vertices': [{'y': 3037, 'x': 3762}, {'y': 3055, 'x': 4239}, {'y': 3182, 'x': 4234}, {'y': 3165, 'x': 3757}]}, 'description': 'Places.'}], 'fullTextAnnotation': {'pages': [{'blocks': [{'property': {'detectedLanguages': [{'languageCode': 'en'}]}, 'boundingBox': {'vertices': [{'y': 646, 'x': 1180}, {'y': 646, 'x': 2114}, {'y': 916, 'x': 2114}, {'y': 916, 'x': 1180}]}, 'paragraphs': [{'property': {'detectedLanguages': [{'languageCode': 'en'}]}, 'words': [{'property': {'detectedLanguages': [{'languageCode': 'en'}]}, 'boundingBox': {'vertices': [{'y': 687, 'x': 1180}, {'y': 647, 'x': 2103}, {'y': 874, 'x': 2113}, {'y': 915, 'x': 1190}]}, 'symbols': [{'property': {'detectedLanguages': [{'languageCode': 'en'}]}, 'text': 'R', 'boundingBox': {'vertices': [{'y': 693, 'x': 1180}, {'y': 686, 'x': 1340}, {'y': 908, 'x': 1350}, {'y': 915, 'x': 1190}]}}, {'property': {'detectedLanguages': [{'languageCode': 'en'}]}, 'text': 'O', 'boundingBox': {'vertices': [{'y': 678, 'x': 1368}, {'y': 670, 'x': 1555}, {'y': 898, 'x': 1565}, {'y': 906, 'x': 1378}]}}, {'property': {'detectedLanguages': [{'languageCode': 'en'}]}, 'text': 'U', 'boundingBox': {'vertices': [{'y': 669, 'x': 1580}, {'y': 662, 'x': 1749}, {'y': 889, 'x': 1759}, {'y': 897, 'x': 1590}]}}, {'property': {'detectedLanguages': [{'languageCode': 'en'}]}, 'text': 'T', 'boundingBox': {'vertices': [{'y': 663, 'x': 1750}, {'y': 655, 'x': 1922}, {'y': 883, 'x': 1932}, {'y': 891, 'x': 1760}]}}, {'property': {'detectedBreak': {'type': 'EOL_SURE_SPACE'}, 'detectedLanguages': [{'languageCode': 'en'}]}, 'text': 'E', 'boundingBox': {'vertices': [{'y': 655, 'x': 1944}, {'y': 648, 'x': 2104}, {'y': 870, 'x': 2114}, {'y': 877, 'x': 1954}]}}]}], 'boundingBox': {'vertices': [{'y': 646, 'x': 1180}, {'y': 646, 'x': 2114}, {'y': 916, 'x': 2114}, {'y': 916, 'x': 1180}]}}], 'blockType': 'TEXT'}, {'property': {'detectedLanguages': [{'languageCode': 'eu'}]}, 'boundingBox': {'vertices': [{'y': 796, 'x': 2540}, {'y': 796, 'x': 4326}, {'y': 1280, 'x': 4326}, {'y': 1280, 'x': 2540}]}, 'paragraphs': [{'property': {'detectedLanguages': [{'languageCode': 'eu'}]}, 'words': [{'property': {'detectedLanguages': [{'languageCode': 'eu'}]}, 'boundingBox': {'vertices': [{'y': 898, 'x': 2540}, {'y': 795, 'x': 4304}, {'y': 1175, 'x': 4326}, {'y': 1277, 'x': 2562}]}, 'symbols': [{'property': {'detectedLanguages': [{'languageCode': 'en'}]}, 'text': 'R', 'boundingBox': {'vertices': [{'y': 898, 'x': 2540}, {'y': 886, 'x': 2738}, {'y': 1243, 'x': 2758}, {'y': 1254, 'x': 2561}]}}, {'property': {'detectedLanguages': [{'languageCode': 'en'}]}, 'text': 'O', 'boundingBox': {'vertices': [{'y': 887, 'x': 2752}, {'y': 874, 'x': 2971}, {'y': 1231, 'x': 2991}, {'y': 1243, 'x': 2773}]}}, {'property': {'detectedLanguages': [{'languageCode': 'en'}]}, 'text': 'A', 'boundingBox': {'vertices': [{'y': 872, 'x': 2972}, {'y': 857, 'x': 3226}, {'y': 1226, 'x': 3247}, {'y': 1240, 'x': 2993}]}}, {'property': {'detectedLanguages': [{'languageCode': 'en'}]}, 'text': 'D', 'boundingBox': {'vertices': [{'y': 857, 'x': 3240}, {'y': 844, 'x': 3471}, {'y': 1212, 'x': 3492}, {'y': 1225, 'x': 3261}]}}, {'property': {'detectedLanguages': [{'languageCode': 'en'}]}, 'text': 'S', 'boundingBox': {'vertices': [{'y': 843, 'x': 3483}, {'y': 833, 'x': 3649}, {'y': 1202, 'x': 3670}, {'y': 1211, 'x': 3504}]}}, {'property': {'detectedLanguages': [{'languageCode': 'en'}]}, 'text': 'I', 'boundingBox': {'vertices': [{'y': 834, 'x': 3651}, {'y': 824, 'x': 3820}, {'y': 1193, 'x': 3841}, {'y': 1202, 'x': 3672}]}}, {'property': {'detectedLanguages': [{'languageCode': 'en'}]}, 'text': 'D', 'boundingBox': {'vertices': [{'y': 822, 'x': 3833}, {'y': 808, 'x': 4075}, {'y': 1187, 'x': 4097}, {'y': 1201, 'x': 3855}]}}, {'property': {'detectedBreak': {'type': 'EOL_SURE_SPACE'}, 'detectedLanguages': [{'languageCode': 'en'}]}, 'text': 'E', 'boundingBox': {'vertices': [{'y': 807, 'x': 4097}, {'y': 795, 'x': 4307}, {'y': 1174, 'x': 4329}, {'y': 1186, 'x': 4119}]}}]}], 'boundingBox': {'vertices': [{'y': 796, 'x': 2540}, {'y': 796, 'x': 4326}, {'y': 1280, 'x': 4326}, {'y': 1280, 'x': 2540}]}}], 'blockType': 'TEXT'}, {'property': {'detectedLanguages': [{'languageCode': 'en'}]}, 'boundingBox': {'vertices': [{'y': 1336, 'x': 1039}, {'y': 1336, 'x': 4790}, {'y': 1988, 'x': 4790}, {'y': 1988, 'x': 1039}]}, 'paragraphs': [{'property': {'detectedLanguages': [{'languageCode': 'en'}]}, 'words': [{'property': {'detectedLanguages': [{'languageCode': 'gd'}]}, 'boundingBox': {'vertices': [{'y': 1363, 'x': 1039}, {'y': 1338, 'x': 2354}, {'y': 1962, 'x': 2366}, {'y': 1987, 'x': 1051}]}, 'symbols': [{'property': {'detectedLanguages': [{'languageCode': 'en'}]}, 'text': 'O', 'boundingBox': {'vertices': [{'y': 1374, 'x': 1039}, {'y': 1364, 'x': 1575}, {'y': 1956, 'x': 1586}, {'y': 1966, 'x': 1050}]}}, {'property': {'detectedBreak': {'type': 'SPACE'}, 'detectedLanguages': [{'languageCode': 'en'}]}, 'text': 'O', 'boundingBox': {'vertices': [{'y': 1354, 'x': 1565}, {'y': 1339, 'x': 2354}, {'y': 1963, 'x': 2366}, {'y': 1978, 'x': 1577}]}}]}, {'property': {'detectedLanguages': [{'languageCode': 'en'}]}, 'boundingBox': {'vertices': [{'y': 1433, 'x': 2555}, {'y': 1390, 'x': 4783}, {'y': 1794, 'x': 4790}, {'y': 1837, 'x': 2563}]}, 'symbols': [{'property': {'detectedLanguages': [{'languageCode': 'en'}]}, 'text': 'A', 'boundingBox': {'vertices': [{'y': 1477, 'x': 2555}, {'y': 1472, 'x': 2818}, {'y': 1832, 'x': 2825}, {'y': 1837, 'x': 2562}]}}, {'property': {'detectedLanguages': [{'languageCode': 'en'}]}, 'text': 'T', 'boundingBox': {'vertices': [{'y': 1459, 'x': 2808}, {'y': 1455, 'x': 3003}, {'y': 1827, 'x': 3010}, {'y': 1831, 'x': 2815}]}}, {'property': {'detectedLanguages': [{'languageCode': 'en'}]}, 'text': 'T', 'boundingBox': {'vertices': [{'y': 1457, 'x': 3005}, {'y': 1453, 'x': 3203}, {'y': 1825, 'x': 3210}, {'y': 1829, 'x': 3012}]}}, {'property': {'detectedLanguages': [{'languageCode': 'en'}]}, 'text': 'R', 'boundingBox': {'vertices': [{'y': 1454, 'x': 3204}, {'y': 1450, 'x': 3408}, {'y': 1810, 'x': 3415}, {'y': 1814, 'x': 3211}]}}, {'property': {'detectedLanguages': [{'languageCode': 'en'}]}, 'text': 'A', 'boundingBox': {'vertices': [{'y': 1436, 'x': 3422}, {'y': 1431, 'x': 3673}, {'y': 1803, 'x': 3680}, {'y': 1808, 'x': 3429}]}}, {'property': {'detectedLanguages': [{'languageCode': 'en'}]}, 'text': 'C', 'boundingBox': {'vertices': [{'y': 1433, 'x': 3674}, {'y': 1429, 'x': 3893}, {'y': 1801, 'x': 3900}, {'y': 1805, 'x': 3681}]}}, {'property': {'detectedLanguages': [{'languageCode': 'en'}]}, 'text': 'T', 'boundingBox': {'vertices': [{'y': 1418, 'x': 3895}, {'y': 1415, 'x': 4058}, {'y': 1795, 'x': 4065}, {'y': 1798, 'x': 3902}]}}, {'property': {'detectedLanguages': [{'languageCode': 'en'}]}, 'text': 'I', 'boundingBox': {'vertices': [{'y': 1415, 'x': 4059}, {'y': 1412, 'x': 4222}, {'y': 1792, 'x': 4229}, {'y': 1795, 'x': 4066}]}}, {'property': {'detectedLanguages': [{'languageCode': 'en'}]}, 'text': 'O', 'boundingBox': {'vertices': [{'y': 1401, 'x': 4235}, {'y': 1396, 'x': 4507}, {'y': 1779, 'x': 4514}, {'y': 1784, 'x': 4242}]}}, {'property': {'detectedBreak': {'type': 'EOL_SURE_SPACE'}, 'detectedLanguages': [{'languageCode': 'en'}]}, 'text': 'N', 'boundingBox': {'vertices': [{'y': 1395, 'x': 4506}, {'y': 1390, 'x': 4781}, {'y': 1773, 'x': 4788}, {'y': 1778, 'x': 4513}]}}]}], 'boundingBox': {'vertices': [{'y': 1336, 'x': 1039}, {'y': 1336, 'x': 4790}, {'y': 1988, 'x': 4790}, {'y': 1988, 'x': 1039}]}}], 'blockType': 'TEXT'}, {'property': {'detectedLanguages': [{'languageCode': 'en'}]}, 'boundingBox': {'vertices': [{'y': 2446, 'x': 1139}, {'y': 2446, 'x': 4860}, {'y': 2830, 'x': 4860}, {'y': 2830, 'x': 1139}]}, 'paragraphs': [{'property': {'detectedLanguages': [{'languageCode': 'en'}]}, 'words': [{'property': {'detectedLanguages': [{'languageCode': 'en'}]}, 'boundingBox': {'vertices': [{'y': 2446, 'x': 1139}, {'y': 2447, 'x': 1434}, {'y': 2578, 'x': 1433}, {'y': 2577, 'x': 1138}]}, 'symbols': [{'property': {'detectedLanguages': [{'languageCode': 'en'}]}, 'text': '1', 'boundingBox': {'vertices': [{'y': 2446, 'x': 1139}, {'y': 2446, 'x': 1214}, {'y': 2577, 'x': 1213}, {'y': 2577, 'x': 1138}]}}, {'property': {'detectedLanguages': [{'languageCode': 'en'}]}, 'text': '9', 'boundingBox': {'vertices': [{'y': 2446, 'x': 1216}, {'y': 2446, 'x': 1285}, {'y': 2577, 'x': 1284}, {'y': 2577, 'x': 1215}]}}, {'property': {'detectedLanguages': [{'languageCode': 'en'}]}, 'text': '3', 'boundingBox': {'vertices': [{'y': 2446, 'x': 1289}, {'y': 2446, 'x': 1358}, {'y': 2577, 'x': 1357}, {'y': 2577, 'x': 1288}]}}, {'property': {'detectedBreak': {'type': 'SPACE'}, 'detectedLanguages': [{'languageCode': 'en'}]}, 'text': '2', 'boundingBox': {'vertices': [{'y': 2446, 'x': 1365}, {'y': 2446, 'x': 1434}, {'y': 2577, 'x': 1433}, {'y': 2577, 'x': 1364}]}}]}, {'property': {'detectedLanguages': [{'languageCode': 'en'}]}, 'boundingBox': {'vertices': [{'y': 2446, 'x': 1477}, {'y': 2450, 'x': 2210}, {'y': 2584, 'x': 2209}, {'y': 2580, 'x': 1476}]}, 'symbols': [{'property': {'detectedLanguages': [{'languageCode': 'en'}]}, 'text': 'S', 'boundingBox': {'vertices': [{'y': 2446, 'x': 1477}, {'y': 2446, 'x': 1555}, {'y': 2580, 'x': 1554}, {'y': 2580, 'x': 1476}]}}, {'property': {'detectedLanguages': [{'languageCode': 'en'}]}, 'text': 'T', 'boundingBox': {'vertices': [{'y': 2446, 'x': 1556}, {'y': 2446, 'x': 1637}, {'y': 2580, 'x': 1636}, {'y': 2580, 'x': 1555}]}}, {'property': {'detectedLanguages': [{'languageCode': 'en'}]}, 'text': 'A', 'boundingBox': {'vertices': [{'y': 2446, 'x': 1633}, {'y': 2446, 'x': 1731}, {'y': 2580, 'x': 1730}, {'y': 2580, 'x': 1632}]}}, {'property': {'detectedLanguages': [{'languageCode': 'en'}]}, 'text': 'N', 'boundingBox': {'vertices': [{'y': 2446, 'x': 1733}, {'y': 2446, 'x': 1828}, {'y': 2580, 'x': 1827}, {'y': 2580, 'x': 1732}]}}, {'property': {'detectedLanguages': [{'languageCode': 'en'}]}, 'text': 'D', 'boundingBox': {'vertices': [{'y': 2446, 'x': 1835}, {'y': 2446, 'x': 1928}, {'y': 2580, 'x': 1927}, {'y': 2580, 'x': 1834}]}}, {'property': {'detectedLanguages': [{'languageCode': 'en'}]}, 'text': 'A', 'boundingBox': {'vertices': [{'y': 2446, 'x': 1929}, {'y': 2446, 'x': 2024}, {'y': 2580, 'x': 2023}, {'y': 2580, 'x': 1928}]}}, {'property': {'detectedLanguages': [{'languageCode': 'en'}]}, 'text': 'R', 'boundingBox': {'vertices': [{'y': 2449, 'x': 2026}, {'y': 2449, 'x': 2116}, {'y': 2583, 'x': 2115}, {'y': 2583, 'x': 2025}]}}, {'property': {'detectedBreak': {'type': 'SPACE'}, 'detectedLanguages': [{'languageCode': 'en'}]}, 'text': 'D', 'boundingBox': {'vertices': [{'y': 2449, 'x': 2120}, {'y': 2449, 'x': 2210}, {'y': 2583, 'x': 2209}, {'y': 2583, 'x': 2119}]}}]}, {'property': {'detectedLanguages': [{'languageCode': 'en'}]}, 'boundingBox': {'vertices': [{'y': 2449, 'x': 2258}, {'y': 2450, 'x': 2477}, {'y': 2590, 'x': 2476}, {'y': 2589, 'x': 2257}]}, 'symbols': [{'property': {'detectedLanguages': [{'languageCode': 'en'}]}, 'text': 'O', 'boundingBox': {'vertices': [{'y': 2449, 'x': 2258}, {'y': 2449, 'x': 2351}, {'y': 2583, 'x': 2350}, {'y': 2583, 'x': 2257}]}}, {'property': {'detectedLanguages': [{'languageCode': 'en'}]}, 'text': 'I', 'boundingBox': {'vertices': [{'y': 2449, 'x': 2355}, {'y': 2449, 'x': 2392}, {'y': 2589, 'x': 2391}, {'y': 2589, 'x': 2354}]}}, {'property': {'detectedBreak': {'type': 'SPACE'}, 'detectedLanguages': [{'languageCode': 'en'}]}, 'text': 'L', 'boundingBox': {'vertices': [{'y': 2449, 'x': 2402}, {'y': 2449, 'x': 2477}, {'y': 2589, 'x': 2476}, {'y': 2589, 'x': 2401}]}}]}, {'property': {'detectedLanguages': [{'languageCode': 'en'}]}, 'boundingBox': {'vertices': [{'y': 2449, 'x': 2520}, {'y': 2450, 'x': 2812}, {'y': 2590, 'x': 2811}, {'y': 2589, 'x': 2519}]}, 'symbols': [{'property': {'detectedLanguages': [{'languageCode': 'en'}]}, 'text': 'G', 'boundingBox': {'vertices': [{'y': 2449, 'x': 2520}, {'y': 2449, 'x': 2610}, {'y': 2589, 'x': 2609}, {'y': 2589, 'x': 2519}]}}, {'property': {'detectedLanguages': [{'languageCode': 'en'}]}, 'text': 'A', 'boundingBox': {'vertices': [{'y': 2452, 'x': 2614}, {'y': 2452, 'x': 2712}, {'y': 2592, 'x': 2711}, {'y': 2592, 'x': 2613}]}}, {'property': {'detectedBreak': {'type': 'SPACE'}, 'detectedLanguages': [{'languageCode': 'en'}]}, 'text': 'S', 'boundingBox': {'vertices': [{'y': 2452, 'x': 2714}, {'y': 2452, 'x': 2812}, {'y': 2592, 'x': 2811}, {'y': 2592, 'x': 2713}]}}]}, {'property': {'detectedLanguages': [{'languageCode': 'en'}]}, 'boundingBox': {'vertices': [{'y': 2452, 'x': 2849}, {'y': 2455, 'x': 3520}, {'y': 2618, 'x': 3519}, {'y': 2615, 'x': 2848}]}, 'symbols': [{'property': {'detectedLanguages': [{'languageCode': 'en'}]}, 'text': 'S', 'boundingBox': {'vertices': [{'y': 2452, 'x': 2849}, {'y': 2452, 'x': 2939}, {'y': 2592, 'x': 2938}, {'y': 2592, 'x': 2848}]}}, {'property': {'detectedLanguages': [{'languageCode': 'en'}]}, 'text': 'T', 'boundingBox': {'vertices': [{'y': 2452, 'x': 2940}, {'y': 2452, 'x': 3033}, {'y': 2592, 'x': 3032}, {'y': 2592, 'x': 2939}]}}, {'property': {'detectedLanguages': [{'languageCode': 'en'}]}, 'text': 'A', 'boundingBox': {'vertices': [{'y': 2452, 'x': 3034}, {'y': 2452, 'x': 3129}, {'y': 2592, 'x': 3128}, {'y': 2592, 'x': 3033}]}}, {'property': {'detectedLanguages': [{'languageCode': 'en'}]}, 'text': 'T', 'boundingBox': {'vertices': [{'y': 2452, 'x': 3128}, {'y': 2452, 'x': 3209}, {'y': 2594, 'x': 3208}, {'y': 2594, 'x': 3127}]}}, {'property': {'detectedLanguages': [{'languageCode': 'en'}]}, 'text': 'I', 'boundingBox': {'vertices': [{'y': 2455, 'x': 3210}, {'y': 2455, 'x': 3285}, {'y': 2597, 'x': 3284}, {'y': 2597, 'x': 3209}]}}, {'property': {'detectedLanguages': [{'languageCode': 'en'}]}, 'text': 'O', 'boundingBox': {'vertices': [{'y': 2455, 'x': 3287}, {'y': 2455, 'x': 3356}, {'y': 2597, 'x': 3355}, {'y': 2597, 'x': 3286}]}}, {'property': {'detectedLanguages': [{'languageCode': 'en'}]}, 'text': 'N', 'boundingBox': {'vertices': [{'y': 2455, 'x': 3366}, {'y': 2456, 'x': 3479}, {'y': 2598, 'x': 3478}, {'y': 2597, 'x': 3365}]}}, {'property': {'detectedBreak': {'type': 'SPACE'}, 'detectedLanguages': [{'languageCode': 'en'}]}, 'text': ',', 'boundingBox': {'vertices': [{'y': 2567, 'x': 3489}, {'y': 2567, 'x': 3520}, {'y': 2618, 'x': 3520}, {'y': 2618, 'x': 3489}]}}]}, {'property': {'detectedLanguages': [{'languageCode': 'de'}]}, 'boundingBox': {'vertices': [{'y': 2455, 'x': 3577}, {'y': 2458, 'x': 4101}, {'y': 2621, 'x': 4100}, {'y': 2618, 'x': 3576}]}, 'symbols': [{'property': {'detectedLanguages': [{'languageCode': 'en'}]}, 'text': 'O', 'boundingBox': {'vertices': [{'y': 2455, 'x': 3577}, {'y': 2456, 'x': 3684}, {'y': 2598, 'x': 3683}, {'y': 2597, 'x': 3576}]}}, {'property': {'detectedLanguages': [{'languageCode': 'en'}]}, 'text': 'D', 'boundingBox': {'vertices': [{'y': 2455, 'x': 3686}, {'y': 2456, 'x': 3793}, {'y': 2598, 'x': 3792}, {'y': 2597, 'x': 3685}]}}, {'property': {'detectedLanguages': [{'languageCode': 'en'}]}, 'text': 'E', 'boundingBox': {'vertices': [{'y': 2458, 'x': 3804}, {'y': 2458, 'x': 3888}, {'y': 2600, 'x': 3887}, {'y': 2600, 'x': 3803}]}}, {'property': {'detectedLanguages': [{'languageCode': 'en'}]}, 'text': 'L', 'boundingBox': {'vertices': [{'y': 2458, 'x': 3898}, {'y': 2458, 'x': 3982}, {'y': 2600, 'x': 3981}, {'y': 2600, 'x': 3897}]}}, {'property': {'detectedLanguages': [{'languageCode': 'en'}]}, 'text': 'L', 'boundingBox': {'vertices': [{'y': 2458, 'x': 3983}, {'y': 2458, 'x': 4067}, {'y': 2606, 'x': 4066}, {'y': 2606, 'x': 3982}]}}, {'property': {'detectedBreak': {'type': 'SPACE'}, 'detectedLanguages': [{'languageCode': 'en'}]}, 'text': ',', 'boundingBox': {'vertices': [{'y': 2570, 'x': 4071}, {'y': 2570, 'x': 4102}, {'y': 2621, 'x': 4102}, {'y': 2621, 'x': 4071}]}}]}, {'property': {'detectedLanguages': [{'languageCode': 'en'}]}, 'boundingBox': {'vertices': [{'y': 2458, 'x': 4165}, {'y': 2462, 'x': 4860}, {'y': 2618, 'x': 4859}, {'y': 2615, 'x': 4164}]}, 'symbols': [{'property': {'detectedLanguages': [{'languageCode': 'en'}]}, 'text': 'I', 'boundingBox': {'vertices': [{'y': 2458, 'x': 4165}, {'y': 2458, 'x': 4234}, {'y': 2606, 'x': 4233}, {'y': 2606, 'x': 4164}]}}, {'property': {'detectedLanguages': [{'languageCode': 'en'}]}, 'text': 'L', 'boundingBox': {'vertices': [{'y': 2458, 'x': 4235}, {'y': 2458, 'x': 4304}, {'y': 2606, 'x': 4303}, {'y': 2606, 'x': 4234}]}}, {'property': {'detectedLanguages': [{'languageCode': 'en'}]}, 'text': 'L', 'boundingBox': {'vertices': [{'y': 2458, 'x': 4306}, {'y': 2458, 'x': 4396}, {'y': 2609, 'x': 4395}, {'y': 2609, 'x': 4305}]}}, {'property': {'detectedLanguages': [{'languageCode': 'en'}]}, 'text': 'I', 'boundingBox': {'vertices': [{'y': 2461, 'x': 4397}, {'y': 2461, 'x': 4478}, {'y': 2609, 'x': 4477}, {'y': 2609, 'x': 4396}]}}, {'property': {'detectedLanguages': [{'languageCode': 'en'}]}, 'text': 'N', 'boundingBox': {'vertices': [{'y': 2461, 'x': 4479}, {'y': 2461, 'x': 4569}, {'y': 2609, 'x': 4568}, {'y': 2609, 'x': 4478}]}}, {'property': {'detectedLanguages': [{'languageCode': 'en'}]}, 'text': 'O', 'boundingBox': {'vertices': [{'y': 2464, 'x': 4585}, {'y': 2465, 'x': 4689}, {'y': 2613, 'x': 4688}, {'y': 2612, 'x': 4584}]}}, {'property': {'detectedLanguages': [{'languageCode': 'en'}]}, 'text': 'I', 'boundingBox': {'vertices': [{'y': 2461, 'x': 4702}, {'y': 2461, 'x': 4742}, {'y': 2612, 'x': 4741}, {'y': 2612, 'x': 4701}]}}, {'property': {'detectedBreak': {'type': 'EOL_SURE_SPACE'}, 'detectedLanguages': [{'languageCode': 'en'}]}, 'text': 'S', 'boundingBox': {'vertices': [{'y': 2464, 'x': 4758}, {'y': 2465, 'x': 4859}, {'y': 2619, 'x': 4858}, {'y': 2618, 'x': 4757}]}}]}, {'property': {'detectedLanguages': [{'languageCode': 'en'}]}, 'boundingBox': {'vertices': [{'y': 2640, 'x': 1224}, {'y': 2644, 'x': 1449}, {'y': 2763, 'x': 1447}, {'y': 2759, 'x': 1222}]}, 'symbols': [{'property': {'detectedLanguages': [{'languageCode': 'en'}]}, 'text': 'T', 'boundingBox': {'vertices': [{'y': 2640, 'x': 1224}, {'y': 2641, 'x': 1278}, {'y': 2757, 'x': 1276}, {'y': 2756, 'x': 1222}]}}, {'property': {'detectedLanguages': [{'languageCode': 'en'}]}, 'text': 'h', 'boundingBox': {'vertices': [{'y': 2640, 'x': 1280}, {'y': 2641, 'x': 1334}, {'y': 2757, 'x': 1332}, {'y': 2756, 'x': 1278}]}}, {'property': {'detectedLanguages': [{'languageCode': 'en'}]}, 'text': 'i', 'boundingBox': {'vertices': [{'y': 2643, 'x': 1336}, {'y': 2644, 'x': 1390}, {'y': 2760, 'x': 1388}, {'y': 2759, 'x': 1334}]}}, {'property': {'detectedBreak': {'type': 'SPACE'}, 'detectedLanguages': [{'languageCode': 'en'}]}, 'text': 's', 'boundingBox': {'vertices': [{'y': 2679, 'x': 1392}, {'y': 2680, 'x': 1449}, {'y': 2764, 'x': 1448}, {'y': 2763, 'x': 1391}]}}]}, {'property': {'detectedLanguages': [{'languageCode': 'en'}]}, 'boundingBox': {'vertices': [{'y': 2646, 'x': 1486}, {'y': 2657, 'x': 2087}, {'y': 2776, 'x': 2085}, {'y': 2765, 'x': 1484}]}, 'symbols': [{'property': {'detectedLanguages': [{'languageCode': 'en'}]}, 'text': 'r', 'boundingBox': {'vertices': [{'y': 2681, 'x': 1486}, {'y': 2682, 'x': 1537}, {'y': 2766, 'x': 1536}, {'y': 2765, 'x': 1485}]}}, {'property': {'detectedLanguages': [{'languageCode': 'en'}]}, 'text': 'e', 'boundingBox': {'vertices': [{'y': 2681, 'x': 1539}, {'y': 2682, 'x': 1593}, {'y': 2766, 'x': 1592}, {'y': 2765, 'x': 1538}]}}, {'property': {'detectedLanguages': [{'languageCode': 'en'}]}, 'text': 's', 'boundingBox': {'vertices': [{'y': 2681, 'x': 1595}, {'y': 2682, 'x': 1655}, {'y': 2763, 'x': 1654}, {'y': 2762, 'x': 1594}]}}, {'property': {'detectedLanguages': [{'languageCode': 'en'}]}, 'text': 't', 'boundingBox': {'vertices': [{'y': 2667, 'x': 1650}, {'y': 2668, 'x': 1704}, {'y': 2769, 'x': 1702}, {'y': 2768, 'x': 1648}]}}, {'property': {'detectedLanguages': [{'languageCode': 'en'}]}, 'text': 'o', 'boundingBox': {'vertices': [{'y': 2667, 'x': 1706}, {'y': 2668, 'x': 1760}, {'y': 2769, 'x': 1758}, {'y': 2768, 'x': 1704}]}}, {'property': {'detectedLanguages': [{'languageCode': 'en'}]}, 'text': 'r', 'boundingBox': {'vertices': [{'y': 2681, 'x': 1762}, {'y': 2682, 'x': 1810}, {'y': 2769, 'x': 1808}, {'y': 2768, 'x': 1760}]}}, {'property': {'detectedLanguages': [{'languageCode': 'en'}]}, 'text': 'a', 'boundingBox': {'vertices': [{'y': 2687, 'x': 1812}, {'y': 2688, 'x': 1872}, {'y': 2772, 'x': 1871}, {'y': 2771, 'x': 1811}]}}, {'property': {'detectedLanguages': [{'languageCode': 'en'}]}, 'text': 't', 'boundingBox': {'vertices': [{'y': 2652, 'x': 1871}, {'y': 2653, 'x': 1911}, {'y': 2772, 'x': 1909}, {'y': 2771, 'x': 1869}]}}, {'property': {'detectedLanguages': [{'languageCode': 'en'}]}, 'text': 'i', 'boundingBox': {'vertices': [{'y': 2652, 'x': 1912}, {'y': 2653, 'x': 1949}, {'y': 2772, 'x': 1947}, {'y': 2771, 'x': 1910}]}}, {'property': {'detectedLanguages': [{'languageCode': 'en'}]}, 'text': 'o', 'boundingBox': {'vertices': [{'y': 2684, 'x': 1950}, {'y': 2685, 'x': 2016}, {'y': 2772, 'x': 2014}, {'y': 2771, 'x': 1948}]}}, {'property': {'detectedBreak': {'type': 'SPACE'}, 'detectedLanguages': [{'languageCode': 'en'}]}, 'text': 'n', 'boundingBox': {'vertices': [{'y': 2690, 'x': 2023}, {'y': 2691, 'x': 2086}, {'y': 2775, 'x': 2085}, {'y': 2774, 'x': 2022}]}}]}, {'property': {'detectedLanguages': [{'languageCode': 'en'}]}, 'boundingBox': {'vertices': [{'y': 2655, 'x': 2120}, {'y': 2657, 'x': 2215}, {'y': 2776, 'x': 2213}, {'y': 2774, 'x': 2118}]}, 'symbols': [{'property': {'detectedLanguages': [{'languageCode': 'en'}]}, 'text': 'i', 'boundingBox': {'vertices': [{'y': 2655, 'x': 2120}, {'y': 2656, 'x': 2154}, {'y': 2775, 'x': 2152}, {'y': 2774, 'x': 2118}]}}, {'property': {'detectedBreak': {'type': 'SPACE'}, 'detectedLanguages': [{'languageCode': 'en'}]}, 'text': 's', 'boundingBox': {'vertices': [{'y': 2690, 'x': 2156}, {'y': 2691, 'x': 2216}, {'y': 2778, 'x': 2214}, {'y': 2777, 'x': 2154}]}}]}, {'property': {'detectedLanguages': [{'languageCode': 'en'}]}, 'boundingBox': {'vertices': [{'y': 2690, 'x': 2256}, {'y': 2691, 'x': 2319}, {'y': 2778, 'x': 2317}, {'y': 2777, 'x': 2254}]}, 'symbols': [{'property': {'detectedBreak': {'type': 'SPACE'}, 'detectedLanguages': [{'languageCode': 'en'}]}, 'text': 'a', 'boundingBox': {'vertices': [{'y': 2690, 'x': 2256}, {'y': 2691, 'x': 2319}, {'y': 2778, 'x': 2317}, {'y': 2777, 'x': 2254}]}}]}, {'property': {'detectedLanguages': [{'languageCode': 'en'}]}, 'boundingBox': {'vertices': [{'y': 2661, 'x': 2361}, {'y': 2668, 'x': 2771}, {'y': 2819, 'x': 2768}, {'y': 2812, 'x': 2358}]}, 'symbols': [{'property': {'detectedLanguages': [{'languageCode': 'en'}]}, 'text': 'p', 'boundingBox': {'vertices': [{'y': 2693, 'x': 2361}, {'y': 2694, 'x': 2427}, {'y': 2807, 'x': 2425}, {'y': 2806, 'x': 2359}]}}, {'property': {'detectedLanguages': [{'languageCode': 'en'}]}, 'text': 'r', 'boundingBox': {'vertices': [{'y': 2693, 'x': 2429}, {'y': 2694, 'x': 2486}, {'y': 2781, 'x': 2484}, {'y': 2780, 'x': 2427}]}}, {'property': {'detectedLanguages': [{'languageCode': 'en'}]}, 'text': 'o', 'boundingBox': {'vertices': [{'y': 2696, 'x': 2488}, {'y': 2697, 'x': 2542}, {'y': 2784, 'x': 2540}, {'y': 2783, 'x': 2486}]}}, {'property': {'detectedLanguages': [{'languageCode': 'en'}]}, 'text': 'j', 'boundingBox': {'vertices': [{'y': 2664, 'x': 2543}, {'y': 2665, 'x': 2580}, {'y': 2816, 'x': 2577}, {'y': 2815, 'x': 2540}]}}, {'property': {'detectedLanguages': [{'languageCode': 'en'}]}, 'text': 'e', 'boundingBox': {'vertices': [{'y': 2699, 'x': 2585}, {'y': 2700, 'x': 2651}, {'y': 2784, 'x': 2650}, {'y': 2783, 'x': 2584}]}}, {'property': {'detectedLanguages': [{'languageCode': 'en'}]}, 'text': 'c', 'boundingBox': {'vertices': [{'y': 2699, 'x': 2655}, {'y': 2700, 'x': 2721}, {'y': 2787, 'x': 2719}, {'y': 2786, 'x': 2653}]}}, {'property': {'detectedBreak': {'type': 'SPACE'}, 'detectedLanguages': [{'languageCode': 'en'}]}, 'text': 't', 'boundingBox': {'vertices': [{'y': 2681, 'x': 2720}, {'y': 2682, 'x': 2771}, {'y': 2786, 'x': 2769}, {'y': 2785, 'x': 2718}]}}]}, {'property': {'detectedLanguages': [{'languageCode': 'en'}]}, 'boundingBox': {'vertices': [{'y': 2664, 'x': 2808}, {'y': 2666, 'x': 2924}, {'y': 2788, 'x': 2922}, {'y': 2786, 'x': 2806}]}, 'symbols': [{'property': {'detectedLanguages': [{'languageCode': 'en'}]}, 'text': 'o', 'boundingBox': {'vertices': [{'y': 2664, 'x': 2808}, {'y': 2665, 'x': 2865}, {'y': 2787, 'x': 2863}, {'y': 2786, 'x': 2806}]}}, {'property': {'detectedBreak': {'type': 'SPACE'}, 'detectedLanguages': [{'languageCode': 'en'}]}, 'text': 'f', 'boundingBox': {'vertices': [{'y': 2667, 'x': 2867}, {'y': 2668, 'x': 2924}, {'y': 2790, 'x': 2922}, {'y': 2789, 'x': 2865}]}}]}, {'property': {'detectedLanguages': [{'languageCode': 'en'}]}, 'boundingBox': {'vertices': [{'y': 2667, 'x': 2955}, {'y': 2670, 'x': 3150}, {'y': 2792, 'x': 3148}, {'y': 2789, 'x': 2953}]}, 'symbols': [{'property': {'detectedLanguages': [{'languageCode': 'en'}]}, 'text': 't', 'boundingBox': {'vertices': [{'y': 2684, 'x': 2955}, {'y': 2685, 'x': 3009}, {'y': 2789, 'x': 3007}, {'y': 2788, 'x': 2953}]}}, {'property': {'detectedLanguages': [{'languageCode': 'en'}]}, 'text': 'h', 'boundingBox': {'vertices': [{'y': 2670, 'x': 3010}, {'y': 2671, 'x': 3073}, {'y': 2793, 'x': 3071}, {'y': 2792, 'x': 3008}]}}, {'property': {'detectedBreak': {'type': 'SPACE'}, 'detectedLanguages': [{'languageCode': 'en'}]}, 'text': 'e', 'boundingBox': {'vertices': [{'y': 2705, 'x': 3081}, {'y': 2706, 'x': 3150}, {'y': 2793, 'x': 3148}, {'y': 2792, 'x': 3079}]}}]}, {'property': {'detectedLanguages': [{'languageCode': 'en'}]}, 'boundingBox': {'vertices': [{'y': 2673, 'x': 3196}, {'y': 2679, 'x': 3556}, {'y': 2807, 'x': 3554}, {'y': 2801, 'x': 3194}]}, 'symbols': [{'property': {'detectedLanguages': [{'languageCode': 'en'}]}, 'text': 'R', 'boundingBox': {'vertices': [{'y': 2673, 'x': 3196}, {'y': 2674, 'x': 3277}, {'y': 2796, 'x': 3275}, {'y': 2795, 'x': 3194}]}}, {'property': {'detectedLanguages': [{'languageCode': 'en'}]}, 'text': 'o', 'boundingBox': {'vertices': [{'y': 2708, 'x': 3281}, {'y': 2709, 'x': 3353}, {'y': 2802, 'x': 3351}, {'y': 2801, 'x': 3279}]}}, {'property': {'detectedLanguages': [{'languageCode': 'en'}]}, 'text': 'u', 'boundingBox': {'vertices': [{'y': 2711, 'x': 3357}, {'y': 2712, 'x': 3426}, {'y': 2799, 'x': 3424}, {'y': 2798, 'x': 3355}]}}, {'property': {'detectedLanguages': [{'languageCode': 'en'}]}, 'text': 't', 'boundingBox': {'vertices': [{'y': 2693, 'x': 3428}, {'y': 2694, 'x': 3482}, {'y': 2798, 'x': 3480}, {'y': 2797, 'x': 3426}]}}, {'property': {'detectedBreak': {'type': 'SPACE'}, 'detectedLanguages': [{'languageCode': 'en'}]}, 'text': 'e', 'boundingBox': {'vertices': [{'y': 2714, 'x': 3483}, {'y': 2715, 'x': 3555}, {'y': 2808, 'x': 3553}, {'y': 2807, 'x': 3481}]}}]}, {'property': {'detectedLanguages': [{'languageCode': 'en'}]}, 'boundingBox': {'vertices': [{'y': 2681, 'x': 3598}, {'y': 2684, 'x': 3752}, {'y': 2809, 'x': 3750}, {'y': 2806, 'x': 3596}]}, 'symbols': [{'property': {'detectedLanguages': [{'languageCode': 'en'}]}, 'text': '6', 'boundingBox': {'vertices': [{'y': 2681, 'x': 3598}, {'y': 2682, 'x': 3673}, {'y': 2807, 'x': 3671}, {'y': 2806, 'x': 3596}]}}, {'property': {'detectedBreak': {'type': 'SPACE'}, 'detectedLanguages': [{'languageCode': 'en'}]}, 'text': '6', 'boundingBox': {'vertices': [{'y': 2684, 'x': 3680}, {'y': 2685, 'x': 3752}, {'y': 2810, 'x': 3750}, {'y': 2809, 'x': 3678}]}}]}, {'property': {'detectedLanguages': [{'languageCode': 'en'}]}, 'boundingBox': {'vertices': [{'y': 2681, 'x': 3795}, {'y': 2695, 'x': 4590}, {'y': 2826, 'x': 4588}, {'y': 2812, 'x': 3793}]}, 'symbols': [{'property': {'detectedLanguages': [{'languageCode': 'en'}]}, 'text': 'A', 'boundingBox': {'vertices': [{'y': 2681, 'x': 3795}, {'y': 2683, 'x': 3896}, {'y': 2811, 'x': 3894}, {'y': 2809, 'x': 3793}]}}, {'property': {'detectedLanguages': [{'languageCode': 'en'}]}, 'text': 's', 'boundingBox': {'vertices': [{'y': 2720, 'x': 3898}, {'y': 2721, 'x': 3967}, {'y': 2814, 'x': 3965}, {'y': 2813, 'x': 3896}]}}, {'property': {'detectedLanguages': [{'languageCode': 'en'}]}, 'text': 's', 'boundingBox': {'vertices': [{'y': 2720, 'x': 3968}, {'y': 2721, 'x': 4043}, {'y': 2814, 'x': 4041}, {'y': 2813, 'x': 3966}]}}, {'property': {'detectedLanguages': [{'languageCode': 'en'}]}, 'text': 'o', 'boundingBox': {'vertices': [{'y': 2723, 'x': 4044}, {'y': 2724, 'x': 4125}, {'y': 2817, 'x': 4123}, {'y': 2816, 'x': 4042}]}}, {'property': {'detectedLanguages': [{'languageCode': 'en'}]}, 'text': 'c', 'boundingBox': {'vertices': [{'y': 2723, 'x': 4127}, {'y': 2724, 'x': 4205}, {'y': 2817, 'x': 4203}, {'y': 2816, 'x': 4125}]}}, {'property': {'detectedLanguages': [{'languageCode': 'en'}]}, 'text': 'i', 'boundingBox': {'vertices': [{'y': 2690, 'x': 4206}, {'y': 2691, 'x': 4246}, {'y': 2819, 'x': 4244}, {'y': 2818, 'x': 4204}]}}, {'property': {'detectedLanguages': [{'languageCode': 'en'}]}, 'text': 'a', 'boundingBox': {'vertices': [{'y': 2726, 'x': 4250}, {'y': 2727, 'x': 4325}, {'y': 2820, 'x': 4323}, {'y': 2819, 'x': 4248}]}}, {'property': {'detectedLanguages': [{'languageCode': 'en'}]}, 'text': 't', 'boundingBox': {'vertices': [{'y': 2693, 'x': 4326}, {'y': 2694, 'x': 4369}, {'y': 2822, 'x': 4367}, {'y': 2821, 'x': 4324}]}}, {'property': {'detectedLanguages': [{'languageCode': 'en'}]}, 'text': 'i', 'boundingBox': {'vertices': [{'y': 2693, 'x': 4371}, {'y': 2694, 'x': 4419}, {'y': 2822, 'x': 4417}, {'y': 2821, 'x': 4369}]}}, {'property': {'detectedLanguages': [{'languageCode': 'en'}]}, 'text': 'o', 'boundingBox': {'vertices': [{'y': 2728, 'x': 4423}, {'y': 2729, 'x': 4504}, {'y': 2824, 'x': 4502}, {'y': 2823, 'x': 4421}]}}, {'property': {'detectedBreak': {'type': 'SPACE'}, 'detectedLanguages': [{'languageCode': 'en'}]}, 'text': 'n', 'boundingBox': {'vertices': [{'y': 2731, 'x': 4509}, {'y': 2732, 'x': 4590}, {'y': 2827, 'x': 4588}, {'y': 2826, 'x': 4507}]}}]}, {'property': {'detectedLanguages': [{'languageCode': 'en'}]}, 'boundingBox': {'vertices': [{'y': 2696, 'x': 4635}, {'y': 2698, 'x': 4775}, {'y': 2829, 'x': 4773}, {'y': 2827, 'x': 4633}]}, 'symbols': [{'property': {'detectedLanguages': [{'languageCode': 'en'}]}, 'text': 'o', 'boundingBox': {'vertices': [{'y': 2734, 'x': 4632}, {'y': 2735, 'x': 4716}, {'y': 2828, 'x': 4714}, {'y': 2827, 'x': 4630}]}}, {'property': {'detectedBreak': {'type': 'EOL_SURE_SPACE'}, 'detectedLanguages': [{'languageCode': 'en'}]}, 'text': 'f', 'boundingBox': {'vertices': [{'y': 2699, 'x': 4714}, {'y': 2700, 'x': 4774}, {'y': 2831, 'x': 4772}, {'y': 2830, 'x': 4712}]}}]}], 'boundingBox': {'vertices': [{'y': 2446, 'x': 1139}, {'y': 2446, 'x': 4860}, {'y': 2830, 'x': 4860}, {'y': 2830, 'x': 1139}]}}], 'blockType': 'TEXT'}, {'property': {'detectedLanguages': [{'languageCode': 'en'}]}, 'boundingBox': {'vertices': [{'y': 2984, 'x': 1645}, {'y': 2984, 'x': 4241}, {'y': 3183, 'x': 4241}, {'y': 3183, 'x': 1645}]}, 'paragraphs': [{'property': {'detectedLanguages': [{'languageCode': 'en'}]}, 'words': [{'property': {'detectedLanguages': [{'languageCode': 'en'}]}, 'boundingBox': {'vertices': [{'y': 3010, 'x': 1647}, {'y': 3015, 'x': 1781}, {'y': 3099, 'x': 1778}, {'y': 3094, 'x': 1644}]}, 'symbols': [{'property': {'detectedLanguages': [{'languageCode': 'en'}]}, 'text': 'o', 'boundingBox': {'vertices': [{'y': 3010, 'x': 1647}, {'y': 3012, 'x': 1707}, {'y': 3096, 'x': 1704}, {'y': 3094, 'x': 1644}]}}, {'property': {'detectedBreak': {'type': 'SPACE'}, 'detectedLanguages': [{'languageCode': 'en'}]}, 'text': 'n', 'boundingBox': {'vertices': [{'y': 3013, 'x': 1709}, {'y': 3016, 'x': 1781}, {'y': 3100, 'x': 1778}, {'y': 3097, 'x': 1706}]}}]}, {'property': {'detectedLanguages': [{'languageCode': 'en'}]}, 'boundingBox': {'vertices': [{'y': 2984, 'x': 1809}, {'y': 2991, 'x': 1990}, {'y': 3107, 'x': 1986}, {'y': 3100, 'x': 1805}]}, 'symbols': [{'property': {'detectedLanguages': [{'languageCode': 'en'}]}, 'text': 't', 'boundingBox': {'vertices': [{'y': 2984, 'x': 1809}, {'y': 2986, 'x': 1866}, {'y': 3102, 'x': 1862}, {'y': 3100, 'x': 1805}]}}, {'property': {'detectedLanguages': [{'languageCode': 'en'}]}, 'text': 'h', 'boundingBox': {'vertices': [{'y': 2987, 'x': 1868}, {'y': 2989, 'x': 1922}, {'y': 3105, 'x': 1918}, {'y': 3103, 'x': 1864}]}}, {'property': {'detectedBreak': {'type': 'SPACE'}, 'detectedLanguages': [{'languageCode': 'en'}]}, 'text': 'e', 'boundingBox': {'vertices': [{'y': 3019, 'x': 1921}, {'y': 3021, 'x': 1987}, {'y': 3105, 'x': 1984}, {'y': 3103, 'x': 1918}]}}]}, {'property': {'detectedLanguages': [{'languageCode': 'en'}]}, 'boundingBox': {'vertices': [{'y': 2990, 'x': 2023}, {'y': 3008, 'x': 2503}, {'y': 3127, 'x': 2498}, {'y': 3109, 'x': 2019}]}, 'symbols': [{'property': {'detectedLanguages': [{'languageCode': 'en'}]}, 'text': 'N', 'boundingBox': {'vertices': [{'y': 2990, 'x': 2023}, {'y': 2993, 'x': 2104}, {'y': 3112, 'x': 2100}, {'y': 3109, 'x': 2019}]}}, {'property': {'detectedLanguages': [{'languageCode': 'en'}]}, 'text': 'a', 'boundingBox': {'vertices': [{'y': 2993, 'x': 2106}, {'y': 2996, 'x': 2184}, {'y': 3115, 'x': 2180}, {'y': 3112, 'x': 2102}]}}, {'property': {'detectedLanguages': [{'languageCode': 'en'}]}, 'text': 't', 'boundingBox': {'vertices': [{'y': 2996, 'x': 2182}, {'y': 2997, 'x': 2219}, {'y': 3116, 'x': 2215}, {'y': 3115, 'x': 2178}]}}, {'property': {'detectedLanguages': [{'languageCode': 'en'}]}, 'text': 'i', 'boundingBox': {'vertices': [{'y': 2996, 'x': 2220}, {'y': 2997, 'x': 2260}, {'y': 3116, 'x': 2256}, {'y': 3115, 'x': 2216}]}}, {'property': {'detectedLanguages': [{'languageCode': 'en'}]}, 'text': 'o', 'boundingBox': {'vertices': [{'y': 3028, 'x': 2258}, {'y': 3030, 'x': 2324}, {'y': 3120, 'x': 2321}, {'y': 3118, 'x': 2255}]}}, {'property': {'detectedLanguages': [{'languageCode': 'en'}]}, 'text': 'n', 'boundingBox': {'vertices': [{'y': 3031, 'x': 2332}, {'y': 3033, 'x': 2398}, {'y': 3117, 'x': 2395}, {'y': 3115, 'x': 2329}]}}, {'property': {'detectedLanguages': [{'languageCode': 'en'}]}, 'text': 'a', 'boundingBox': {'vertices': [{'y': 3002, 'x': 2402}, {'y': 3004, 'x': 2453}, {'y': 3117, 'x': 2449}, {'y': 3115, 'x': 2398}]}}, {'property': {'detectedBreak': {'type': 'SPACE'}, 'detectedLanguages': [{'languageCode': 'en'}]}, 'text': 'l', 'boundingBox': {'vertices': [{'y': 3005, 'x': 2455}, {'y': 3007, 'x': 2503}, {'y': 3120, 'x': 2499}, {'y': 3118, 'x': 2451}]}}]}, {'property': {'detectedLanguages': [{'languageCode': 'en'}]}, 'boundingBox': {'vertices': [{'y': 3002, 'x': 2540}, {'y': 3020, 'x': 3035}, {'y': 3171, 'x': 3029}, {'y': 3153, 'x': 2534}]}, 'symbols': [{'property': {'detectedLanguages': [{'languageCode': 'en'}]}, 'text': 'R', 'boundingBox': {'vertices': [{'y': 3002, 'x': 2540}, {'y': 3005, 'x': 2621}, {'y': 3124, 'x': 2617}, {'y': 3121, 'x': 2536}]}}, {'property': {'detectedLanguages': [{'languageCode': 'en'}]}, 'text': 'e', 'boundingBox': {'vertices': [{'y': 3040, 'x': 2620}, {'y': 3043, 'x': 2689}, {'y': 3126, 'x': 2686}, {'y': 3124, 'x': 2617}]}}, {'property': {'detectedLanguages': [{'languageCode': 'en'}]}, 'text': 'g', 'boundingBox': {'vertices': [{'y': 3043, 'x': 2690}, {'y': 3046, 'x': 2762}, {'y': 3162, 'x': 2758}, {'y': 3159, 'x': 2686}]}}, {'property': {'detectedLanguages': [{'languageCode': 'en'}]}, 'text': 'i', 'boundingBox': {'vertices': [{'y': 3010, 'x': 2761}, {'y': 3011, 'x': 2795}, {'y': 3130, 'x': 2791}, {'y': 3129, 'x': 2757}]}}, {'property': {'detectedLanguages': [{'languageCode': 'en'}]}, 'text': 's', 'boundingBox': {'vertices': [{'y': 3043, 'x': 2793}, {'y': 3045, 'x': 2859}, {'y': 3132, 'x': 2856}, {'y': 3130, 'x': 2790}]}}, {'property': {'detectedLanguages': [{'languageCode': 'en'}]}, 'text': 't', 'boundingBox': {'vertices': [{'y': 3028, 'x': 2858}, {'y': 3030, 'x': 2909}, {'y': 3134, 'x': 2905}, {'y': 3132, 'x': 2854}]}}, {'property': {'detectedLanguages': [{'languageCode': 'en'}]}, 'text': 'e', 'boundingBox': {'vertices': [{'y': 3049, 'x': 2908}, {'y': 3051, 'x': 2968}, {'y': 3138, 'x': 2965}, {'y': 3136, 'x': 2905}]}}, {'property': {'detectedBreak': {'type': 'SPACE'}, 'detectedLanguages': [{'languageCode': 'en'}]}, 'text': 'r', 'boundingBox': {'vertices': [{'y': 3052, 'x': 2969}, {'y': 3054, 'x': 3032}, {'y': 3141, 'x': 3029}, {'y': 3139, 'x': 2966}]}}]}, {'property': {'detectedLanguages': [{'languageCode': 'en'}]}, 'boundingBox': {'vertices': [{'y': 3013, 'x': 3072}, {'y': 3017, 'x': 3191}, {'y': 3145, 'x': 3186}, {'y': 3141, 'x': 3067}]}, 'symbols': [{'property': {'detectedLanguages': [{'languageCode': 'en'}]}, 'text': 'o', 'boundingBox': {'vertices': [{'y': 3055, 'x': 3069}, {'y': 3058, 'x': 3138}, {'y': 3144, 'x': 3135}, {'y': 3142, 'x': 3066}]}}, {'property': {'detectedBreak': {'type': 'SPACE'}, 'detectedLanguages': [{'languageCode': 'en'}]}, 'text': 'f', 'boundingBox': {'vertices': [{'y': 3016, 'x': 3143}, {'y': 3018, 'x': 3191}, {'y': 3146, 'x': 3186}, {'y': 3144, 'x': 3138}]}}]}, {'property': {'detectedLanguages': [{'languageCode': 'en'}]}, 'boundingBox': {'vertices': [{'y': 3019, 'x': 3228}, {'y': 3037, 'x': 3723}, {'y': 3165, 'x': 3718}, {'y': 3147, 'x': 3223}]}, 'symbols': [{'property': {'detectedLanguages': [{'languageCode': 'en'}]}, 'text': 'H', 'boundingBox': {'vertices': [{'y': 3025, 'x': 3228}, {'y': 3027, 'x': 3291}, {'y': 3149, 'x': 3286}, {'y': 3147, 'x': 3224}]}}, {'property': {'detectedLanguages': [{'languageCode': 'en'}]}, 'text': 'i', 'boundingBox': {'vertices': [{'y': 3028, 'x': 3292}, {'y': 3030, 'x': 3358}, {'y': 3152, 'x': 3353}, {'y': 3150, 'x': 3288}]}}, {'property': {'detectedLanguages': [{'languageCode': 'en'}]}, 'text': 's', 'boundingBox': {'vertices': [{'y': 3063, 'x': 3357}, {'y': 3065, 'x': 3423}, {'y': 3152, 'x': 3420}, {'y': 3150, 'x': 3354}]}}, {'property': {'detectedLanguages': [{'languageCode': 'en'}]}, 'text': 't', 'boundingBox': {'vertices': [{'y': 3043, 'x': 3425}, {'y': 3045, 'x': 3476}, {'y': 3155, 'x': 3472}, {'y': 3153, 'x': 3421}]}}, {'property': {'detectedLanguages': [{'languageCode': 'en'}]}, 'text': 'o', 'boundingBox': {'vertices': [{'y': 3063, 'x': 3475}, {'y': 3065, 'x': 3535}, {'y': 3158, 'x': 3532}, {'y': 3156, 'x': 3472}]}}, {'property': {'detectedLanguages': [{'languageCode': 'en'}]}, 'text': 'r', 'boundingBox': {'vertices': [{'y': 3066, 'x': 3536}, {'y': 3068, 'x': 3602}, {'y': 3161, 'x': 3599}, {'y': 3159, 'x': 3533}]}}, {'property': {'detectedLanguages': [{'languageCode': 'en'}]}, 'text': 'i', 'boundingBox': {'vertices': [{'y': 3034, 'x': 3607}, {'y': 3035, 'x': 3641}, {'y': 3163, 'x': 3636}, {'y': 3162, 'x': 3602}]}}, {'property': {'detectedBreak': {'type': 'SPACE'}, 'detectedLanguages': [{'languageCode': 'en'}]}, 'text': 'c', 'boundingBox': {'vertices': [{'y': 3069, 'x': 3645}, {'y': 3072, 'x': 3720}, {'y': 3165, 'x': 3717}, {'y': 3162, 'x': 3642}]}}]}, {'property': {'detectedLanguages': [{'languageCode': 'en'}]}, 'boundingBox': {'vertices': [{'y': 3037, 'x': 3762}, {'y': 3055, 'x': 4239}, {'y': 3182, 'x': 4234}, {'y': 3165, 'x': 3757}]}, 'symbols': [{'property': {'detectedLanguages': [{'languageCode': 'en'}]}, 'text': 'P', 'boundingBox': {'vertices': [{'y': 3037, 'x': 3762}, {'y': 3039, 'x': 3822}, {'y': 3167, 'x': 3817}, {'y': 3165, 'x': 3757}]}}, {'property': {'detectedLanguages': [{'languageCode': 'en'}]}, 'text': 'l', 'boundingBox': {'vertices': [{'y': 3040, 'x': 3824}, {'y': 3042, 'x': 3884}, {'y': 3170, 'x': 3879}, {'y': 3168, 'x': 3819}]}}, {'property': {'detectedLanguages': [{'languageCode': 'en'}]}, 'text': 'a', 'boundingBox': {'vertices': [{'y': 3078, 'x': 3892}, {'y': 3081, 'x': 3967}, {'y': 3174, 'x': 3964}, {'y': 3171, 'x': 3889}]}}, {'property': {'detectedLanguages': [{'languageCode': 'en'}]}, 'text': 'c', 'boundingBox': {'vertices': [{'y': 3081, 'x': 3968}, {'y': 3084, 'x': 4049}, {'y': 3177, 'x': 4046}, {'y': 3174, 'x': 3965}]}}, {'property': {'detectedLanguages': [{'languageCode': 'en'}]}, 'text': 'e', 'boundingBox': {'vertices': [{'y': 3084, 'x': 4050}, {'y': 3087, 'x': 4128}, {'y': 3180, 'x': 4125}, {'y': 3177, 'x': 4047}]}}, {'property': {'detectedLanguages': [{'languageCode': 'en'}]}, 'text': 's', 'boundingBox': {'vertices': [{'y': 3087, 'x': 4130}, {'y': 3089, 'x': 4181}, {'y': 3182, 'x': 4178}, {'y': 3180, 'x': 4127}]}}, {'property': {'detectedBreak': {'type': 'EOL_SURE_SPACE'}, 'detectedLanguages': [{'languageCode': 'en'}]}, 'text': '.', 'boundingBox': {'vertices': [{'y': 3090, 'x': 4183}, {'y': 3092, 'x': 4240}, {'y': 3185, 'x': 4237}, {'y': 3183, 'x': 4180}]}}]}], 'boundingBox': {'vertices': [{'y': 2984, 'x': 1645}, {'y': 2984, 'x': 4241}, {'y': 3183, 'x': 4241}, {'y': 3183, 'x': 1645}]}}], 'blockType': 'TEXT'}], 'property': {'detectedLanguages': [{'languageCode': 'en'}]}, 'height': 4016, 'width': 6016}], 'text': 'ROUTE\\nROADSIDE\\nOO ATTRACTION\\n1932 STANDARD OIL GAS STATION, ODELL, ILLINOIS\\nThis restoration is a project of the Route 66 Association of\\non the National Register of Historic Places.\\n'}}]}\n"
     ]
    }
   ],
   "source": [
    "IMAGE=\"https://get.pxhere.com/photo/road-highway-advertising-travel-sign-community-usa-landmark-street-sign-attraction-historic-tourism-signage-road-sign-illinois-history-66-traffic-sign-route-66-mother-road-odell-644464.jpg\"\n",
    "vservice = build('vision', 'v1', developerKey=APIKEY)\n",
    "request = vservice.images().annotate(body={\n",
    "        'requests': [{\n",
    "                'image': {\n",
    "                    'source': {\n",
    "                        'imageUri': IMAGE\n",
    "                    }\n",
    "                },\n",
    "                'features': [{\n",
    "                    'type': 'TEXT_DETECTION',\n",
    "                    'maxResults': 5,\n",
    "                }]\n",
    "            }],\n",
    "        })\n",
    "responses = request.execute(num_retries=5)\n",
    "print(responses)"
   ]
  },
  {
   "cell_type": "markdown",
   "metadata": {},
   "source": [
    "<img src=\"https://get.pxhere.com/photo/road-highway-advertising-travel-sign-community-usa-landmark-street-sign-attraction-historic-tourism-signage-road-sign-illinois-history-66-traffic-sign-route-66-mother-road-odell-644464.jpg\" width=600>\n",
    "\n",
    "Checking the end of the text with the sign - how did we do?  We missed one full line of text - so OCR still remains a difficult text, even for Google!"
   ]
  },
  {
   "cell_type": "markdown",
   "metadata": {
    "deletable": true,
    "editable": true
   },
   "source": [
    "## Sentiment analysis with Language API\n",
    "\n",
    "Let's evaluate the sentiment of some famous quotes using [Google Cloud Natural Language API](https://cloud.google.com/natural-language/docs/)."
   ]
  },
  {
   "cell_type": "code",
   "execution_count": 77,
   "metadata": {
    "collapsed": false,
    "deletable": true,
    "editable": true
   },
   "outputs": [
    {
     "name": "stdout",
     "output_type": "stream",
     "text": [
      "POLARITY=1 MAGNITUDE=0.9 for To succeed, you must have tremendous perseverance, tremendous will.\n",
      "POLARITY=-1 MAGNITUDE=0.5 for It’s not that I’m so smart, it’s just that I stay with problems longer.\n",
      "POLARITY=1 MAGNITUDE=0.9 for Love is quivering happiness.\n",
      "POLARITY=1 MAGNITUDE=0.9 for Love is of all passions the strongest, for it attacks simultaneously the head, the heart, and the senses.\n",
      "POLARITY=1 MAGNITUDE=0.2 for What difference does it make to the dead, the orphans and the homeless, whether the mad destruction is wrought under the name of totalitarianism or in the holy name of liberty or democracy?\n",
      "POLARITY=-1 MAGNITUDE=0.4 for When someone you love dies, and you’re not expecting it, you don’t lose her all at once; you lose her in pieces over a long time — the way the mail stops coming, and her scent fades from the pillows and even from the clothes in her closet and drawers. \n"
     ]
    }
   ],
   "source": [
    "lservice = build('language', 'v1beta1', developerKey=APIKEY)\n",
    "quotes = [\n",
    "  'To succeed, you must have tremendous perseverance, tremendous will.',\n",
    "  'It’s not that I’m so smart, it’s just that I stay with problems longer.',\n",
    "  'Love is quivering happiness.',\n",
    "  'Love is of all passions the strongest, for it attacks simultaneously the head, the heart, and the senses.',\n",
    "  'What difference does it make to the dead, the orphans and the homeless, whether the mad destruction is wrought under the name of totalitarianism or in the holy name of liberty or democracy?',\n",
    "  'When someone you love dies, and you’re not expecting it, you don’t lose her all at once; you lose her in pieces over a long time — the way the mail stops coming, and her scent fades from the pillows and even from the clothes in her closet and drawers. '\n",
    "]\n",
    "for quote in quotes:\n",
    "  response = lservice.documents().analyzeSentiment(\n",
    "    body={\n",
    "      'document': {\n",
    "         'type': 'PLAIN_TEXT',\n",
    "         'content': quote\n",
    "      }\n",
    "    }).execute()\n",
    "  polarity = response['documentSentiment']['polarity']\n",
    "  magnitude = response['documentSentiment']['magnitude']\n",
    "  print('POLARITY=%s MAGNITUDE=%s for %s' % (polarity, magnitude, quote))"
   ]
  },
  {
   "cell_type": "markdown",
   "metadata": {},
   "source": [
    "In a [paper](https://arxiv.org/pdf/1010.3003.pdf) published in 2010 by Bollen et al, it was claimed that there was 87% correlation between tweets and the stock market.  In January 2013, the following *false* tweet was sent which [momentarily sent Serepta Therapeutics falling](http://fortune.com/2015/12/07/dataminr-hedge-funds-twitter-data/), but when investors realized the ruse, it quickly recovered.  Let's process the [tweet](http://kiddynamitesworld.com/the-sec-needs-to-arrest-some-people/).\n",
    "\n",
    "\"$SRPT FDA steps in as its 48 weeks results on Eteplirsen results are tainted and have been doctored they believeTrial papers seized by FDA.\""
   ]
  },
  {
   "cell_type": "code",
   "execution_count": 78,
   "metadata": {
    "collapsed": false
   },
   "outputs": [
    {
     "name": "stdout",
     "output_type": "stream",
     "text": [
      "POLARITY=-1 MAGNITUDE=0.9 for $SRPT FDA steps in as its 48 weeks results on Eteplirsen results are tainted and have been doctored they believeTrial papers seized by FDA.\n"
     ]
    }
   ],
   "source": [
    "quotes = [\n",
    "  '$SRPT FDA steps in as its 48 weeks results on Eteplirsen results are tainted and have been doctored they believeTrial papers seized by FDA.'\n",
    "]\n",
    "for quote in quotes:\n",
    "  response = lservice.documents().analyzeSentiment(\n",
    "    body={\n",
    "      'document': {\n",
    "         'type': 'PLAIN_TEXT',\n",
    "         'content': quote\n",
    "      }\n",
    "    }).execute()\n",
    "  polarity = response['documentSentiment']['polarity']\n",
    "  magnitude = response['documentSentiment']['magnitude']\n",
    "  print('POLARITY=%s MAGNITUDE=%s for %s' % (polarity, magnitude, quote))"
   ]
  },
  {
   "cell_type": "markdown",
   "metadata": {},
   "source": [
    "And we see that this *is* a very negative statement - no wonder it impacted the market as Forbes relates."
   ]
  },
  {
   "cell_type": "markdown",
   "metadata": {
    "deletable": true,
    "editable": true
   },
   "source": [
    "<h2> Speech API </h2>\n",
    "\n",
    "The [Speech API](https://cloud.google.com/speech-to-text/docs/) can work on streaming data, audio content encoded and embedded directly into the POST message, or on a file on Cloud Storage. Pass in this <a href=\"https://storage.googleapis.com/cloud-training-demos/vision/audio.raw\">audio file</a> from Cloud Storage."
   ]
  },
  {
   "cell_type": "code",
   "execution_count": 79,
   "metadata": {
    "collapsed": false,
    "deletable": true,
    "editable": true
   },
   "outputs": [
    {
     "name": "stdout",
     "output_type": "stream",
     "text": [
      "{'results': [{'alternatives': [{'transcript': 'how old is the Brooklyn Bridge', 'confidence': 0.98360395}]}]}\n"
     ]
    }
   ],
   "source": [
    "sservice = build('speech', 'v1beta1', developerKey=APIKEY)\n",
    "response = sservice.speech().syncrecognize(\n",
    "    body={\n",
    "        'config': {\n",
    "            'encoding': 'LINEAR16',\n",
    "            'sampleRate': 16000\n",
    "        },\n",
    "        'audio': {\n",
    "            'uri': 'gs://cloud-training-demos/vision/audio.raw'\n",
    "            }\n",
    "        }).execute()\n",
    "print(response)"
   ]
  },
  {
   "cell_type": "code",
   "execution_count": 80,
   "metadata": {
    "collapsed": false,
    "deletable": true,
    "editable": true
   },
   "outputs": [
    {
     "name": "stdout",
     "output_type": "stream",
     "text": [
      "how old is the Brooklyn Bridge\n",
      "Confidence=0.983604\n"
     ]
    }
   ],
   "source": [
    "print(response['results'][0]['alternatives'][0]['transcript'])\n",
    "print('Confidence=%f' % response['results'][0]['alternatives'][0]['confidence'])"
   ]
  },
  {
   "cell_type": "markdown",
   "metadata": {
    "deletable": true,
    "editable": true
   },
   "source": [
    "<h2> Clean up </h2>\n",
    "\n",
    "Remember to delete the API key by visiting <a href=\"http://console.cloud.google.com/apis\">API console</a>.\n",
    "\n",
    "If necessary, commit all your notebooks to git.\n",
    "\n",
    "If you are running Datalab on a Compute Engine VM or delegating to one, remember to stop or shut it down so that you are not charged.\n"
   ]
  },
  {
   "cell_type": "markdown",
   "metadata": {
    "deletable": true,
    "editable": true
   },
   "source": [
    "## Challenge Exercise\n",
    "\n",
    "Here are a few portraits from the Metropolitan Museum of Art, New York (they are part of a [BigQuery public dataset](https://bigquery.cloud.google.com/dataset/bigquery-public-data:the_met) ):\n",
    "\n",
    "gs://gcs-public-data--met/14295/0.jpg  \n",
    "<img src=\"https://raw.githubusercontent.com/jeffreyrnorton/Notebooks_MachineLearning/master/images/14295.jpg\" width=400>\n",
    "\n",
    "gs://gcs-public-data--met/15091/0.jpg  \n",
    "<img src=\"https://raw.githubusercontent.com/jeffreyrnorton/Notebooks_MachineLearning/master/images/15091.jpg\" width=400>\n",
    "\n",
    "(Two given in the original assignment are not publically available and what good is it to tell you unhappy or happy when you can't see the photo?)\n",
    "\n",
    "Use the Vision API to identify which of these images depict happy people and which ones depict unhappy people.\n",
    "\n",
    "Hint: You will need to look for joyLikelihood and/or sorrowLikelihood from the response."
   ]
  },
  {
   "cell_type": "code",
   "execution_count": 81,
   "metadata": {
    "collapsed": false
   },
   "outputs": [
    {
     "name": "stdout",
     "output_type": "stream",
     "text": [
      "{'responses': [{'faceAnnotations': [{'headwearLikelihood': 'VERY_LIKELY', 'landmarkingConfidence': 0.40494683, 'blurredLikelihood': 'VERY_UNLIKELY', 'underExposedLikelihood': 'VERY_UNLIKELY', 'landmarks': [{'position': {'y': 1239.4186, 'x': 1657.5417, 'z': -0.00067241676}, 'type': 'LEFT_EYE'}, {'position': {'y': 1269.9839, 'x': 1709.117, 'z': 6.37109}, 'type': 'RIGHT_EYE'}, {'position': {'y': 1221.4691, 'x': 1648.5151, 'z': 3.180908}, 'type': 'LEFT_OF_LEFT_EYEBROW'}, {'position': {'y': 1238.1575, 'x': 1679.7795, 'z': -9.626153}, 'type': 'RIGHT_OF_LEFT_EYEBROW'}, {'position': {'y': 1251.854, 'x': 1703.0846, 'z': -6.6261573}, 'type': 'LEFT_OF_RIGHT_EYEBROW'}, {'position': {'y': 1266.6852, 'x': 1730.7343, 'z': 13.025247}, 'type': 'RIGHT_OF_RIGHT_EYEBROW'}, {'position': {'y': 1255.671, 'x': 1685.7417, 'z': -8.505504}, 'type': 'MIDPOINT_BETWEEN_EYES'}, {'position': {'y': 1286.2218, 'x': 1670.6033, 'z': -23.763466}, 'type': 'NOSE_TIP'}, {'position': {'y': 1302.7893, 'x': 1660.6646, 'z': -9.950831}, 'type': 'UPPER_LIP'}, {'position': {'y': 1317.9097, 'x': 1651.4833, 'z': -5.3513894}, 'type': 'LOWER_LIP'}, {'position': {'y': 1296.7627, 'x': 1637.2349, 'z': 2.8874674}, 'type': 'MOUTH_LEFT'}, {'position': {'y': 1317.8884, 'x': 1676.45, 'z': 8.183346}, 'type': 'MOUTH_RIGHT'}, {'position': {'y': 1308.821, 'x': 1656.6819, 'z': -5.574534}, 'type': 'MOUTH_CENTER'}, {'position': {'y': 1295.7554, 'x': 1680.8508, 'z': -0.29969272}, 'type': 'NOSE_BOTTOM_RIGHT'}, {'position': {'y': 1280.362, 'x': 1654.1652, 'z': -3.7201083}, 'type': 'NOSE_BOTTOM_LEFT'}, {'position': {'y': 1292.9683, 'x': 1665.4689, 'z': -10.549813}, 'type': 'NOSE_BOTTOM_CENTER'}, {'position': {'y': 1239.922, 'x': 1661.5542, 'z': -3.6543229}, 'type': 'LEFT_EYE_TOP_BOUNDARY'}, {'position': {'y': 1248.5437, 'x': 1667.828, 'z': 1.7114741}, 'type': 'LEFT_EYE_RIGHT_CORNER'}, {'position': {'y': 1245.564, 'x': 1656.2124, 'z': -0.05742309}, 'type': 'LEFT_EYE_BOTTOM_BOUNDARY'}, {'position': {'y': 1237.3911, 'x': 1649.1272, 'z': 4.1993794}, 'type': 'LEFT_EYE_LEFT_CORNER'}, {'position': {'y': 1242.7916, 'x': 1658.7307, 'z': -1.2312143}, 'type': 'LEFT_EYE_PUPIL'}, {'position': {'y': 1266.7526, 'x': 1710.4882, 'z': 2.3725884}, 'type': 'RIGHT_EYE_TOP_BOUNDARY'}, {'position': {'y': 1274.914, 'x': 1717.5399, 'z': 12.646767}, 'type': 'RIGHT_EYE_RIGHT_CORNER'}, {'position': {'y': 1274.9198, 'x': 1706.6422, 'z': 6.0593023}, 'type': 'RIGHT_EYE_BOTTOM_BOUNDARY'}, {'position': {'y': 1266.1927, 'x': 1698.7798, 'z': 5.4502664}, 'type': 'RIGHT_EYE_LEFT_CORNER'}, {'position': {'y': 1270.3594, 'x': 1708.8982, 'z': 4.882201}, 'type': 'RIGHT_EYE_PUPIL'}, {'position': {'y': 1224.7739, 'x': 1667.6608, 'z': -7.2789946}, 'type': 'LEFT_EYEBROW_UPPER_MIDPOINT'}, {'position': {'y': 1253.8289, 'x': 1720.6747, 'z': -0.72790676}, 'type': 'RIGHT_EYEBROW_UPPER_MIDPOINT'}, {'position': {'y': 1244.4164, 'x': 1609.7196, 'z': 66.17216}, 'type': 'LEFT_EAR_TRAGION'}, {'position': {'y': 1305.17, 'x': 1720.8135, 'z': 79.89174}, 'type': 'RIGHT_EAR_TRAGION'}, {'position': {'y': 1245.1234, 'x': 1691.7561, 'z': -10.219888}, 'type': 'FOREHEAD_GLABELLA'}, {'position': {'y': 1340.1458, 'x': 1638.0819, 'z': 3.4793158}, 'type': 'CHIN_GNATHION'}, {'position': {'y': 1280.6748, 'x': 1599.489, 'z': 45.39207}, 'type': 'CHIN_LEFT_GONION'}, {'position': {'y': 1335.5272, 'x': 1699.833, 'z': 57.7918}, 'type': 'CHIN_RIGHT_GONION'}], 'boundingPoly': {'vertices': [{'y': 1151, 'x': 1574}, {'y': 1151, 'x': 1760}, {'y': 1367, 'x': 1760}, {'y': 1367, 'x': 1574}]}, 'angerLikelihood': 'VERY_UNLIKELY', 'tiltAngle': -1.9469476, 'fdBoundingPoly': {'vertices': [{'y': 1199, 'x': 1589}, {'y': 1199, 'x': 1748}, {'y': 1358, 'x': 1748}, {'y': 1358, 'x': 1589}]}, 'surpriseLikelihood': 'VERY_UNLIKELY', 'joyLikelihood': 'LIKELY', 'panAngle': 6.19284, 'sorrowLikelihood': 'VERY_UNLIKELY', 'detectionConfidence': 0.52649903, 'rollAngle': 28.898441}]}]}\n"
     ]
    }
   ],
   "source": [
    "IMAGE=\"gs://gcs-public-data--met/14295/0.jpg\"\n",
    "vservice = build('vision', 'v1', developerKey=APIKEY)\n",
    "request = vservice.images().annotate(body={\n",
    "        'requests': [{\n",
    "                'image': {\n",
    "                    'source': {\n",
    "                        'gcsImageUri': IMAGE\n",
    "                    }\n",
    "                },\n",
    "                'features': [{\n",
    "                    'type': 'FACE_DETECTION'\n",
    "                }]\n",
    "            }],\n",
    "        })\n",
    "responses = request.execute()\n",
    "print(responses)"
   ]
  },
  {
   "cell_type": "markdown",
   "metadata": {},
   "source": [
    "As a matter of interest - we can crop to the face with the following code:\n",
    "```\n",
    "xlow = ylow = 100000\n",
    "xhigh = yhigh = -1\n",
    "for point in responses['responses'][0]['faceAnnotations'][0]['boundingPoly']['vertices']:\n",
    "    x = point['x']\n",
    "    y = point['y']\n",
    "    if x < xlow: xlow = x\n",
    "    if y < ylow: ylow = y\n",
    "    if x > xhigh: xhigh = x\n",
    "    if y > yhigh: yhigh = y\n",
    "\n",
    "from PIL import Image\n",
    "import urllib.request\n",
    "\n",
    "url = \"https://raw.githubusercontent.com/jeffreyrnorton/Notebooks_MachineLearning/master/images/14295.jpg\"\n",
    "response = urllib.request.urlretrieve(url, \"tmp/i.jpg\")\n",
    "img = Image.open(\"tmp/i.jpg\")\n",
    "img2 = img.crop((xlow, ylow, xhigh, yhigh))\n",
    "img2.save(\"tmp/img2.jpg\")\n",
    "```\n",
    "\n",
    "But of course, what we are really interested in are the emotions which we can print out."
   ]
  },
  {
   "cell_type": "code",
   "execution_count": 82,
   "metadata": {
    "collapsed": false
   },
   "outputs": [
    {
     "name": "stdout",
     "output_type": "stream",
     "text": [
      "Surprise: VERY_UNLIKELY, Joy: LIKELY, Sorrow: VERY_UNLIKELY\n"
     ]
    }
   ],
   "source": [
    "annotation = responses['responses'][0]['faceAnnotations'][0]\n",
    "print('Surprise: {}, Joy: {}, Sorrow: {}'.format(annotation['surpriseLikelihood'], annotation['joyLikelihood'], annotation['sorrowLikelihood']))"
   ]
  },
  {
   "cell_type": "markdown",
   "metadata": {},
   "source": [
    "<img src=\"https://raw.githubusercontent.com/jeffreyrnorton/Notebooks_MachineLearning/master/images/14295.jpg\" width=400>\n",
    "\n",
    "Now that we have explored this - let's write the code to process the other image very concisely and as a function where we assume we are always getting the image from a Google bucket."
   ]
  },
  {
   "cell_type": "code",
   "execution_count": 83,
   "metadata": {
    "collapsed": false
   },
   "outputs": [
    {
     "name": "stdout",
     "output_type": "stream",
     "text": [
      "{'Surprise': 'VERY_UNLIKELY', 'Joy': 'LIKELY', 'Sorrow': 'VERY_UNLIKELY'}\n"
     ]
    }
   ],
   "source": [
    "def emotion_detector(apikey, image):\n",
    "    vservice = build('vision', 'v1', developerKey=apikey)\n",
    "    request = vservice.images().annotate(body={\n",
    "        'requests': [{\n",
    "                'image': {\n",
    "                    'source': {\n",
    "                        'gcsImageUri': image\n",
    "                    }\n",
    "                },\n",
    "                'features': [{\n",
    "                    'type': 'FACE_DETECTION'\n",
    "                }]\n",
    "            }],\n",
    "        })\n",
    "    responses = request.execute()\n",
    "    annotation = responses['responses'][0]['faceAnnotations'][0]\n",
    "    return {'Surprise':annotation['surpriseLikelihood'],\n",
    "            'Joy':annotation['joyLikelihood'],\n",
    "            'Sorrow':annotation['sorrowLikelihood']}\n",
    "\n",
    "IMAGE=\"gs://gcs-public-data--met/14295/0.jpg\"\n",
    "print(emotion_detector(APIKEY, IMAGE))\n",
    "\n"
   ]
  },
  {
   "cell_type": "markdown",
   "metadata": {},
   "source": [
    "<img src=\"https://raw.githubusercontent.com/jeffreyrnorton/Notebooks_MachineLearning/master/images/15091.jpg\" width=400>"
   ]
  },
  {
   "cell_type": "markdown",
   "metadata": {
    "deletable": true,
    "editable": true
   },
   "source": [
    "Copyright 2018 Google Inc.\n",
    "Licensed under the Apache License, Version 2.0 (the \"License\"); you may not use this file except in compliance with the License. You may obtain a copy of the License at\n",
    "http://www.apache.org/licenses/LICENSE-2.0\n",
    "Unless required by applicable law or agreed to in writing, software distributed under the License is distributed on an \"AS IS\" BASIS, WITHOUT WARRANTIES OR CONDITIONS OF ANY KIND, either express or implied. See the License for the specific language governing permissions and limitations under the License."
   ]
  },
  {
   "cell_type": "code",
   "execution_count": null,
   "metadata": {
    "collapsed": true,
    "deletable": true,
    "editable": true
   },
   "outputs": [],
   "source": []
  }
 ],
 "metadata": {
  "kernelspec": {
   "display_name": "Python 3",
   "language": "python",
   "name": "python3"
  },
  "language_info": {
   "codemirror_mode": {
    "name": "ipython",
    "version": 3
   },
   "file_extension": ".py",
   "mimetype": "text/x-python",
   "name": "python",
   "nbconvert_exporter": "python",
   "pygments_lexer": "ipython3",
   "version": "3.5.5"
  }
 },
 "nbformat": 4,
 "nbformat_minor": 0
}
